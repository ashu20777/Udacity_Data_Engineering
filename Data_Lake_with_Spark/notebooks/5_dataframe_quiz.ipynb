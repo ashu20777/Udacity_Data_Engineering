{
 "cells": [
  {
   "cell_type": "markdown",
   "metadata": {},
   "source": [
    "# Data Wrangling with DataFrames Coding Quiz\n",
    "\n",
    "Use this Jupyter notebook to find the answers to the quiz in the previous section. There is an answer key in the next part of the lesson."
   ]
  },
  {
   "cell_type": "code",
   "execution_count": 32,
   "metadata": {},
   "outputs": [],
   "source": [
    "from pyspark.sql import SparkSession\n",
    "\n",
    "# 1) import any other libraries you might need\n",
    "from pyspark.sql.functions import udf\n",
    "from pyspark.sql.types import StringType\n",
    "from pyspark.sql.types import IntegerType\n",
    "from pyspark.sql.functions import desc\n",
    "from pyspark.sql.functions import asc\n",
    "from pyspark.sql.functions import sum as Fsum\n",
    "from pyspark.sql.functions import isnan, count, when, col, desc, udf, col, sort_array, asc, avg\n",
    "\n",
    "\n",
    "# 2) instantiate a Spark session \n",
    "spark = SparkSession \\\n",
    "    .builder \\\n",
    "    .appName(\"Quiz\") \\\n",
    "    .getOrCreate()\n",
    "# 3) read in the data set located at the path \"data/sparkify_log_small.json\"\n",
    "path = \"data/sparkify_log_small.json\"\n",
    "user_log = spark.read.json(path)\n",
    "# 4) write code to answer the quiz questions "
   ]
  },
  {
   "cell_type": "markdown",
   "metadata": {},
   "source": [
    "# Question 1\n",
    "\n",
    "Which page did user id \"\" (empty string) NOT visit?"
   ]
  },
  {
   "cell_type": "code",
   "execution_count": 6,
   "metadata": {},
   "outputs": [
    {
     "name": "stdout",
     "output_type": "stream",
     "text": [
      "+-----+\n",
      "| page|\n",
      "+-----+\n",
      "| Home|\n",
      "|About|\n",
      "|Login|\n",
      "| Help|\n",
      "+-----+\n",
      "\n"
     ]
    }
   ],
   "source": [
    "# TODO: write your code to answer question 1\n",
    "user_log.filter(user_log.userId == \"\").select(\"page\").dropDuplicates().show()"
   ]
  },
  {
   "cell_type": "markdown",
   "metadata": {},
   "source": [
    "# Question 2 - Reflect\n",
    "\n",
    "What type of user does the empty string user id most likely refer to?\n"
   ]
  },
  {
   "cell_type": "code",
   "execution_count": 7,
   "metadata": {},
   "outputs": [
    {
     "name": "stdout",
     "output_type": "stream",
     "text": [
      "+------+----------+---------+------+-------------+--------+------+-----+--------+------+-----+------------+---------+----+------+-------------+---------+------+\n",
      "|artist|      auth|firstName|gender|itemInSession|lastName|length|level|location|method| page|registration|sessionId|song|status|           ts|userAgent|userId|\n",
      "+------+----------+---------+------+-------------+--------+------+-----+--------+------+-----+------------+---------+----+------+-------------+---------+------+\n",
      "|  null|Logged Out|     null|  null|            0|    null|  null| free|    null|   PUT|Login|        null|     5598|null|   307|1513721196284|     null|      |\n",
      "|  null|Logged Out|     null|  null|           26|    null|  null| paid|    null|   GET| Home|        null|      428|null|   200|1513721274284|     null|      |\n",
      "|  null|Logged Out|     null|  null|            5|    null|  null| free|    null|   GET| Home|        null|     2941|null|   200|1513722009284|     null|      |\n",
      "|  null|Logged Out|     null|  null|            5|    null|  null| paid|    null|   GET| Home|        null|     5243|null|   200|1513723183284|     null|      |\n",
      "|  null|Logged Out|     null|  null|            6|    null|  null| paid|    null|   PUT|Login|        null|     5243|null|   307|1513723184284|     null|      |\n",
      "|  null|Logged Out|     null|  null|            0|    null|  null| free|    null|   PUT|Login|        null|     1477|null|   307|1513723587284|     null|      |\n",
      "|  null|Logged Out|     null|  null|           14|    null|  null| paid|    null|   GET| Home|        null|     5243|null|   200|1513724475284|     null|      |\n",
      "|  null|Logged Out|     null|  null|            7|    null|  null| paid|    null|   GET| Home|        null|     4108|null|   200|1513724530284|     null|      |\n",
      "|  null|Logged Out|     null|  null|            0|    null|  null| paid|    null|   PUT|Login|        null|     5764|null|   307|1513728229284|     null|      |\n",
      "|  null|Logged Out|     null|  null|            0|    null|  null| paid|    null|   GET| Home|        null|     5566|null|   200|1513729051284|     null|      |\n",
      "|  null|Logged Out|     null|  null|            1|    null|  null| paid|    null|   PUT|Login|        null|     5566|null|   307|1513729052284|     null|      |\n",
      "|  null|Logged Out|     null|  null|            0|    null|  null| paid|    null|   GET| Home|        null|     3697|null|   200|1513729376284|     null|      |\n",
      "|  null|Logged Out|     null|  null|            1|    null|  null| paid|    null|   GET| Help|        null|     3697|null|   200|1513729445284|     null|      |\n",
      "|  null|Logged Out|     null|  null|           60|    null|  null| paid|    null|   GET| Home|        null|     5175|null|   200|1513729762284|     null|      |\n",
      "|  null|Logged Out|     null|  null|           61|    null|  null| paid|    null|   PUT|Login|        null|     5175|null|   307|1513729763284|     null|      |\n",
      "|  null|Logged Out|     null|  null|            0|    null|  null| free|    null|   GET| Home|        null|      511|null|   200|1513730128284|     null|      |\n",
      "|  null|Logged Out|     null|  null|            1|    null|  null| free|    null|   PUT|Login|        null|      511|null|   307|1513730129284|     null|      |\n",
      "|  null|Logged Out|     null|  null|            0|    null|  null| free|    null|   GET| Home|        null|     2992|null|   200|1513730621284|     null|      |\n",
      "|  null|Logged Out|     null|  null|            1|    null|  null| free|    null|   PUT|Login|        null|     2992|null|   307|1513730622284|     null|      |\n",
      "|  null|Logged Out|     null|  null|            8|    null|  null| paid|    null|   GET| Home|        null|     4239|null|   200|1513730953284|     null|      |\n",
      "+------+----------+---------+------+-------------+--------+------+-----+--------+------+-----+------------+---------+----+------+-------------+---------+------+\n",
      "only showing top 20 rows\n",
      "\n"
     ]
    }
   ],
   "source": [
    "# TODO: use this space to explore the behavior of the user with an empty string\n",
    "user_log.filter(user_log.userId == \"\").show()"
   ]
  },
  {
   "cell_type": "markdown",
   "metadata": {},
   "source": [
    "# Question 3\n",
    "\n",
    "How many female users do we have in the data set?"
   ]
  },
  {
   "cell_type": "code",
   "execution_count": 16,
   "metadata": {},
   "outputs": [
    {
     "data": {
      "text/plain": [
       "462"
      ]
     },
     "execution_count": 16,
     "metadata": {},
     "output_type": "execute_result"
    }
   ],
   "source": [
    "# TODO: write your code to answer question 3\n",
    "user_log.filter(user_log.gender == \"F\").select([\"userID\",\"gender\"]).dropDuplicates().count()"
   ]
  },
  {
   "cell_type": "markdown",
   "metadata": {},
   "source": [
    "# Question 4\n",
    "\n",
    "How many songs were played from the most played artist?"
   ]
  },
  {
   "cell_type": "code",
   "execution_count": 23,
   "metadata": {},
   "outputs": [
    {
     "name": "stdout",
     "output_type": "stream",
     "text": [
      "+--------------------+-----+\n",
      "|              artist|count|\n",
      "+--------------------+-----+\n",
      "|            Coldplay|   83|\n",
      "|       Kings Of Leon|   69|\n",
      "|Florence + The Ma...|   52|\n",
      "|            BjÃÂ¶rk|   46|\n",
      "|       Dwight Yoakam|   45|\n",
      "|       Justin Bieber|   43|\n",
      "|      The Black Keys|   40|\n",
      "|         OneRepublic|   37|\n",
      "|                Muse|   36|\n",
      "|        Jack Johnson|   36|\n",
      "|           Radiohead|   31|\n",
      "|        Taylor Swift|   29|\n",
      "|Barry Tuckwell/Ac...|   28|\n",
      "|          Lily Allen|   28|\n",
      "|               Train|   28|\n",
      "|           Daft Punk|   27|\n",
      "|           Metallica|   27|\n",
      "|          Nickelback|   27|\n",
      "|          Kanye West|   26|\n",
      "|Red Hot Chili Pep...|   24|\n",
      "+--------------------+-----+\n",
      "only showing top 20 rows\n",
      "\n"
     ]
    }
   ],
   "source": [
    "# TODO: write your code to answer question 4\n",
    "user_log.filter(user_log.page==\"NextSong\").groupby(\"artist\").count().sort(desc(\"count\")).show()"
   ]
  },
  {
   "cell_type": "markdown",
   "metadata": {},
   "source": [
    "# Question 5 (challenge)\n",
    "\n",
    "How many songs do users listen to on average between visiting our home page? Please round your answer to the closest integer.\n",
    "\n"
   ]
  },
  {
   "cell_type": "code",
   "execution_count": 33,
   "metadata": {},
   "outputs": [],
   "source": [
    "# TODO: write your code to answer question 5\n",
    "from pyspark.sql.window import Window\n",
    "\n",
    "function = udf(lambda ishome : int(ishome == 'Home'), IntegerType())\n",
    "\n",
    "user_window = Window \\\n",
    "    .partitionBy('userID') \\\n",
    "    .orderBy(desc('ts')) \\\n",
    "    .rangeBetween(Window.unboundedPreceding, 0)\n",
    "\n",
    "cusum = user_log.filter((user_log.page == 'NextSong') | (user_log.page == 'Home')) \\\n",
    "    .select('userID', 'page', 'ts') \\\n",
    "    .withColumn('homevisit', function(col('page'))) \\\n",
    "    .withColumn('period', Fsum('homevisit').over(user_window))"
   ]
  },
  {
   "cell_type": "code",
   "execution_count": 34,
   "metadata": {},
   "outputs": [
    {
     "name": "stdout",
     "output_type": "stream",
     "text": [
      "+------+--------+-------------+---------+------+\n",
      "|userID|    page|           ts|homevisit|period|\n",
      "+------+--------+-------------+---------+------+\n",
      "|  1138|NextSong|1513833144284|        0|     0|\n",
      "|  1138|    Home|1513821430284|        1|     1|\n",
      "|  1138|NextSong|1513814880284|        0|     1|\n",
      "|  1138|    Home|1513768456284|        1|     2|\n",
      "|  1138|NextSong|1513768452284|        0|     2|\n",
      "|  1138|NextSong|1513768242284|        0|     2|\n",
      "|  1138|NextSong|1513768012284|        0|     2|\n",
      "|  1138|NextSong|1513767643284|        0|     2|\n",
      "|  1138|NextSong|1513767413284|        0|     2|\n",
      "|  1138|NextSong|1513767203284|        0|     2|\n",
      "|  1138|NextSong|1513766838284|        0|     2|\n",
      "|  1138|NextSong|1513766599284|        0|     2|\n",
      "|  1138|NextSong|1513766385284|        0|     2|\n",
      "|  1138|NextSong|1513766189284|        0|     2|\n",
      "|  1138|NextSong|1513766091284|        0|     2|\n",
      "|  1138|NextSong|1513765818284|        0|     2|\n",
      "|  1138|NextSong|1513765655284|        0|     2|\n",
      "|  1138|NextSong|1513765448284|        0|     2|\n",
      "|  1138|NextSong|1513765075284|        0|     3|\n",
      "|  1138|    Home|1513765075284|        1|     3|\n",
      "+------+--------+-------------+---------+------+\n",
      "only showing top 20 rows\n",
      "\n"
     ]
    }
   ],
   "source": [
    "cusum.where(user_log.userId == \"1138\").show()"
   ]
  },
  {
   "cell_type": "code",
   "execution_count": 35,
   "metadata": {},
   "outputs": [],
   "source": [
    "cusum2=cusum.where(cusum.page==\"NextSong\").groupBy(\"userId\",\"period\").count().withColumnRenamed(\"count\",\"songs\")"
   ]
  },
  {
   "cell_type": "code",
   "execution_count": 36,
   "metadata": {},
   "outputs": [
    {
     "name": "stdout",
     "output_type": "stream",
     "text": [
      "+------+------+-----+\n",
      "|userId|period|songs|\n",
      "+------+------+-----+\n",
      "|  1436|     0|    2|\n",
      "|  2088|     1|   13|\n",
      "|  2162|     0|   19|\n",
      "|  2162|     2|   15|\n",
      "|  2294|     0|    4|\n",
      "|  2294|     1|   17|\n",
      "|  2294|     2|    3|\n",
      "|  2294|     3|   16|\n",
      "|  2294|     4|    4|\n",
      "|  2294|     5|   11|\n",
      "|  2904|     0|    1|\n",
      "|   691|     1|    3|\n",
      "|  1394|     0|    9|\n",
      "|  1394|     1|   17|\n",
      "|  2275|     0|    3|\n",
      "|  2756|     0|    4|\n",
      "|  2756|     2|    1|\n",
      "|   451|     0|    1|\n",
      "|   451|     1|    1|\n",
      "|   800|     1|    2|\n",
      "+------+------+-----+\n",
      "only showing top 20 rows\n",
      "\n"
     ]
    }
   ],
   "source": [
    "cusum2.show()"
   ]
  },
  {
   "cell_type": "code",
   "execution_count": 37,
   "metadata": {},
   "outputs": [
    {
     "name": "stdout",
     "output_type": "stream",
     "text": [
      "+-----------------+\n",
      "|       avg(songs)|\n",
      "+-----------------+\n",
      "|6.898347107438017|\n",
      "+-----------------+\n",
      "\n"
     ]
    }
   ],
   "source": [
    "cusum2.groupBy().avg('songs').show()"
   ]
  },
  {
   "cell_type": "code",
   "execution_count": null,
   "metadata": {},
   "outputs": [],
   "source": []
  }
 ],
 "metadata": {
  "kernelspec": {
   "display_name": "Python 3",
   "language": "python",
   "name": "python3"
  },
  "language_info": {
   "codemirror_mode": {
    "name": "ipython",
    "version": 3
   },
   "file_extension": ".py",
   "mimetype": "text/x-python",
   "name": "python",
   "nbconvert_exporter": "python",
   "pygments_lexer": "ipython3",
   "version": "3.8.3"
  }
 },
 "nbformat": 4,
 "nbformat_minor": 2
}
