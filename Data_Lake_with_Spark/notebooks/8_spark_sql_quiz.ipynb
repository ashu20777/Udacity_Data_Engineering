{
 "cells": [
  {
   "cell_type": "markdown",
   "metadata": {},
   "source": [
    "# Data Wrangling with Spark SQL Quiz\n",
    "\n",
    "This quiz uses the same dataset and most of the same questions from the earlier \"Quiz - Data Wrangling with Data Frames Jupyter Notebook.\" For this quiz, however, use Spark SQL instead of Spark Data Frames."
   ]
  },
  {
   "cell_type": "code",
   "execution_count": 2,
   "metadata": {},
   "outputs": [],
   "source": [
    "from pyspark.sql import SparkSession\n",
    "\n",
    "# 1) import any other libraries you might need\n",
    "from pyspark.sql import SparkSession\n",
    "from pyspark.sql.functions import udf\n",
    "from pyspark.sql.types import StringType\n",
    "from pyspark.sql.types import IntegerType\n",
    "from pyspark.sql.functions import desc\n",
    "from pyspark.sql.functions import asc\n",
    "from pyspark.sql.functions import sum as Fsum\n",
    "# 2) instantiate a Spark session \n",
    "spark = SparkSession \\\n",
    "    .builder \\\n",
    "    .appName(\"Spark SQL Quiz\") \\\n",
    "    .getOrCreate()\n",
    "# 3) read in the data set located at the path \"data/sparkify_log_small.json\"\n",
    "path = \"data/sparkify_log_small.json\"\n",
    "user_log = spark.read.json(path)\n",
    "# 4) create a view to use with your SQL queries\n",
    "user_log.createOrReplaceTempView(\"user_log_table\")\n"
   ]
  },
  {
   "cell_type": "markdown",
   "metadata": {},
   "source": [
    "# Question 1\n",
    "\n",
    "Which page did user id \"\"(empty string) NOT visit?\n"
   ]
  },
  {
   "cell_type": "code",
   "execution_count": 3,
   "metadata": {},
   "outputs": [
    {
     "name": "stdout",
     "output_type": "stream",
     "text": [
      "+----------------+\n",
      "|            page|\n",
      "+----------------+\n",
      "|Submit Downgrade|\n",
      "|       Downgrade|\n",
      "|          Logout|\n",
      "|   Save Settings|\n",
      "|        Settings|\n",
      "|        NextSong|\n",
      "|         Upgrade|\n",
      "|           Error|\n",
      "|  Submit Upgrade|\n",
      "+----------------+\n",
      "\n"
     ]
    }
   ],
   "source": [
    "spark.sql(\"select page from user_log_table minus select page from user_log_table where userid=''\").show()"
   ]
  },
  {
   "cell_type": "markdown",
   "metadata": {},
   "source": [
    "# Question 2 - Reflect\n",
    "\n",
    "Why might you prefer to use SQL over data frames? Why might you prefer data frames over SQL?"
   ]
  },
  {
   "cell_type": "markdown",
   "metadata": {},
   "source": [
    "# Question 3\n",
    "\n",
    "How many female users do we have in the data set?"
   ]
  },
  {
   "cell_type": "code",
   "execution_count": 4,
   "metadata": {},
   "outputs": [
    {
     "name": "stdout",
     "output_type": "stream",
     "text": [
      "+------------+\n",
      "|female_users|\n",
      "+------------+\n",
      "|         462|\n",
      "+------------+\n",
      "\n"
     ]
    }
   ],
   "source": [
    "spark.sql('''\n",
    "select count(distinct userid) female_users\n",
    "from user_log_table \n",
    "where gender='F'\n",
    "''').show()"
   ]
  },
  {
   "cell_type": "markdown",
   "metadata": {},
   "source": [
    "# Question 4\n",
    "\n",
    "How many songs were played from the most played artist?"
   ]
  },
  {
   "cell_type": "code",
   "execution_count": 5,
   "metadata": {},
   "outputs": [
    {
     "name": "stdout",
     "output_type": "stream",
     "text": [
      "+--------+-----+\n",
      "|  artist|songs|\n",
      "+--------+-----+\n",
      "|Coldplay|   83|\n",
      "+--------+-----+\n",
      "\n"
     ]
    }
   ],
   "source": [
    "spark.sql('''\n",
    "select * from(\n",
    "select artist,count(*) songs\n",
    "from user_log_table where page='NextSong'\n",
    "group by artist order by songs desc \n",
    ") X limit 1\n",
    "''').show()"
   ]
  },
  {
   "cell_type": "markdown",
   "metadata": {},
   "source": [
    "# Question 5 (challenge)\n",
    "\n",
    "How many songs do users listen to on average between visiting our home page? Please round your answer to the closest integer."
   ]
  },
  {
   "cell_type": "code",
   "execution_count": 6,
   "metadata": {},
   "outputs": [
    {
     "name": "stdout",
     "output_type": "stream",
     "text": [
      "+------+--------+-------------+----+\n",
      "|userid|    page|           ts|home|\n",
      "+------+--------+-------------+----+\n",
      "|    10|NextSong|1513828388284|   0|\n",
      "|    10|NextSong|1513790894284|   0|\n",
      "|   100|    Home|1513839673284|   1|\n",
      "|   100|NextSong|1513776308284|   0|\n",
      "|   100|    Home|1513776194284|   1|\n",
      "|   100|NextSong|1513775710284|   0|\n",
      "|   100|NextSong|1513775556284|   0|\n",
      "|   100|    Home|1513775431284|   1|\n",
      "|   100|NextSong|1513750442284|   0|\n",
      "|   100|NextSong|1513750214284|   0|\n",
      "|  1000|NextSong|1513720878284|   0|\n",
      "|  1003|    Home|1513749525284|   1|\n",
      "|  1003|NextSong|1513749516284|   0|\n",
      "|  1003|    Home|1513749501284|   1|\n",
      "|  1005|NextSong|1513782278284|   0|\n",
      "|  1006|NextSong|1513774019284|   0|\n",
      "|  1006|NextSong|1513773777284|   0|\n",
      "|  1006|NextSong|1513773548284|   0|\n",
      "|  1017|NextSong|1513822643284|   0|\n",
      "|  1017|    Home|1513822400284|   1|\n",
      "+------+--------+-------------+----+\n",
      "only showing top 20 rows\n",
      "\n"
     ]
    }
   ],
   "source": [
    "is_home = spark.sql('''select userid,page,ts,case when page='Home' then 1 else 0 end home from user_log_table \n",
    "where userid !='' and page in('Home','NextSong') \n",
    "order by userid, ts desc\n",
    "''')\n",
    "\n",
    "is_home.show()"
   ]
  },
  {
   "cell_type": "code",
   "execution_count": 7,
   "metadata": {},
   "outputs": [
    {
     "name": "stdout",
     "output_type": "stream",
     "text": [
      "+------+--------+-------------+----+------+\n",
      "|userid|    page|           ts|home|period|\n",
      "+------+--------+-------------+----+------+\n",
      "|    10|NextSong|1513828388284|   0|     0|\n",
      "|    10|NextSong|1513790894284|   0|     0|\n",
      "|   100|    Home|1513839673284|   1|     1|\n",
      "|   100|NextSong|1513776308284|   0|     1|\n",
      "|   100|    Home|1513776194284|   1|     2|\n",
      "|   100|NextSong|1513775710284|   0|     2|\n",
      "|   100|NextSong|1513775556284|   0|     2|\n",
      "|   100|    Home|1513775431284|   1|     3|\n",
      "|   100|NextSong|1513750442284|   0|     3|\n",
      "|   100|NextSong|1513750214284|   0|     3|\n",
      "|  1000|NextSong|1513720878284|   0|     0|\n",
      "|  1003|    Home|1513749525284|   1|     1|\n",
      "|  1003|NextSong|1513749516284|   0|     1|\n",
      "|  1003|    Home|1513749501284|   1|     2|\n",
      "|  1005|NextSong|1513782278284|   0|     0|\n",
      "|  1006|NextSong|1513774019284|   0|     0|\n",
      "|  1006|NextSong|1513773777284|   0|     0|\n",
      "|  1006|NextSong|1513773548284|   0|     0|\n",
      "|  1017|NextSong|1513822643284|   0|     0|\n",
      "|  1017|    Home|1513822400284|   1|     1|\n",
      "+------+--------+-------------+----+------+\n",
      "only showing top 20 rows\n",
      "\n"
     ]
    }
   ],
   "source": [
    "is_home.createOrReplaceTempView(\"is_home_table\")\n",
    "\n",
    "period = spark.sql('''\n",
    "select userid,page,ts,home,\n",
    "sum(home) over(partition by userid order by ts desc) period \n",
    "from is_home_table\n",
    "order by userid,ts desc\n",
    "''')\n",
    "\n",
    "period.show()"
   ]
  },
  {
   "cell_type": "code",
   "execution_count": 9,
   "metadata": {},
   "outputs": [
    {
     "name": "stdout",
     "output_type": "stream",
     "text": [
      "+-----------------+\n",
      "|       avg(songs)|\n",
      "+-----------------+\n",
      "|6.898347107438017|\n",
      "+-----------------+\n",
      "\n"
     ]
    }
   ],
   "source": [
    "period.createOrReplaceTempView(\"period_table\")\n",
    "\n",
    "spark.sql('''\n",
    "select avg(songs) from(\n",
    "select userid,period,count(*) songs\n",
    "from period_table where page = 'NextSong'\n",
    "group by userid,period\n",
    ")'''\n",
    ").show()"
   ]
  },
  {
   "cell_type": "code",
   "execution_count": null,
   "metadata": {},
   "outputs": [],
   "source": []
  }
 ],
 "metadata": {
  "kernelspec": {
   "display_name": "Python 3",
   "language": "python",
   "name": "python3"
  },
  "language_info": {
   "codemirror_mode": {
    "name": "ipython",
    "version": 3
   },
   "file_extension": ".py",
   "mimetype": "text/x-python",
   "name": "python",
   "nbconvert_exporter": "python",
   "pygments_lexer": "ipython3",
   "version": "3.8.3"
  }
 },
 "nbformat": 4,
 "nbformat_minor": 2
}
