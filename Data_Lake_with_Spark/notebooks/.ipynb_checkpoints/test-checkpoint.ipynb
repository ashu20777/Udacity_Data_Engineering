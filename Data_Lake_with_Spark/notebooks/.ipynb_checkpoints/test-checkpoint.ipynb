{
 "cells": [
  {
   "cell_type": "markdown",
   "metadata": {},
   "source": [
    "# Data Wrangling with Spark\n",
    "\n",
    "This is the code used in the previous screencast. Run each code cell to understand what the code does and how it works.\n",
    "\n",
    "These first three cells import libraries, instantiate a SparkSession, and then read in the data set"
   ]
  },
  {
   "cell_type": "code",
   "execution_count": 44,
   "metadata": {},
   "outputs": [],
   "source": [
    "import findspark\n",
    "findspark.init('C:\\spark')\n",
    "\n",
    "from pyspark.sql import SparkSession\n",
    "from pyspark.sql.functions import udf\n",
    "from pyspark.sql.types import StringType\n",
    "from pyspark.sql.types import IntegerType\n",
    "from pyspark.sql.functions import desc\n",
    "from pyspark.sql.functions import asc\n",
    "from pyspark.sql.functions import sum as Fsum\n",
    "from pyspark.sql.functions import isnan, count, when, col, desc, udf, col, sort_array, asc, avg\n",
    "\n",
    "import datetime\n",
    "\n",
    "import numpy as np\n",
    "import pandas as pd\n",
    "%matplotlib inline\n",
    "import matplotlib.pyplot as plt"
   ]
  },
  {
   "cell_type": "code",
   "execution_count": 34,
   "metadata": {},
   "outputs": [],
   "source": [
    "spark = SparkSession \\\n",
    "    .builder \\\n",
    "    .appName(\"Wrangling Data\") \\\n",
    "    .getOrCreate()"
   ]
  },
  {
   "cell_type": "code",
   "execution_count": 35,
   "metadata": {},
   "outputs": [
    {
     "data": {
      "text/plain": [
       "[('spark.app.name', 'Wrangling Data'),\n",
       " ('spark.app.id', 'local-1607017008900'),\n",
       " ('spark.driver.host', 'ssharma-w7.kryptonitesys.com'),\n",
       " ('spark.rdd.compress', 'True'),\n",
       " ('spark.serializer.objectStreamReset', '100'),\n",
       " ('spark.master', 'local[*]'),\n",
       " ('spark.submit.pyFiles', ''),\n",
       " ('spark.executor.id', 'driver'),\n",
       " ('spark.submit.deployMode', 'client'),\n",
       " ('spark.ui.showConsoleProgress', 'true'),\n",
       " ('spark.driver.port', '64074')]"
      ]
     },
     "execution_count": 35,
     "metadata": {},
     "output_type": "execute_result"
    }
   ],
   "source": [
    "spark.sparkContext.getConf().getAll()"
   ]
  },
  {
   "cell_type": "code",
   "execution_count": 40,
   "metadata": {},
   "outputs": [
    {
     "name": "stdout",
     "output_type": "stream",
     "text": [
      "<class 'pyspark.sql.dataframe.DataFrame'>\n"
     ]
    }
   ],
   "source": [
    "path = \"data/sparkify_log_small.json\"\n",
    "user_log = spark.read.json(path)\n",
    "print(type(user_log))"
   ]
  },
  {
   "cell_type": "markdown",
   "metadata": {},
   "source": [
    "# Data Exploration \n",
    "\n",
    "The next cells explore the data set."
   ]
  },
  {
   "cell_type": "code",
   "execution_count": 5,
   "metadata": {},
   "outputs": [
    {
     "data": {
      "text/plain": [
       "[Row(artist='Showaddywaddy', auth='Logged In', firstName='Kenneth', gender='M', itemInSession=112, lastName='Matthews', length=232.93342, level='paid', location='Charlotte-Concord-Gastonia, NC-SC', method='PUT', page='NextSong', registration=1509380319284, sessionId=5132, song='Christmas Tears Will Fall', status=200, ts=1513720872284, userAgent='\"Mozilla/5.0 (Windows NT 6.1) AppleWebKit/537.36 (KHTML, like Gecko) Chrome/36.0.1985.125 Safari/537.36\"', userId='1046'),\n",
       " Row(artist='Lily Allen', auth='Logged In', firstName='Elizabeth', gender='F', itemInSession=7, lastName='Chase', length=195.23873, level='free', location='Shreveport-Bossier City, LA', method='PUT', page='NextSong', registration=1512718541284, sessionId=5027, song='Cheryl Tweedy', status=200, ts=1513720878284, userAgent='\"Mozilla/5.0 (Windows NT 6.1) AppleWebKit/537.36 (KHTML, like Gecko) Chrome/36.0.1985.143 Safari/537.36\"', userId='1000'),\n",
       " Row(artist='Cobra Starship Featuring Leighton Meester', auth='Logged In', firstName='Vera', gender='F', itemInSession=6, lastName='Blackwell', length=196.20526, level='paid', location='Racine, WI', method='PUT', page='NextSong', registration=1499855749284, sessionId=5516, song='Good Girls Go Bad (Feat.Leighton Meester) (Album Version)', status=200, ts=1513720881284, userAgent='\"Mozilla/5.0 (Macintosh; Intel Mac OS X 10_9_4) AppleWebKit/537.78.2 (KHTML, like Gecko) Version/7.0.6 Safari/537.78.2\"', userId='2219'),\n",
       " Row(artist='Alex Smoke', auth='Logged In', firstName='Sophee', gender='F', itemInSession=8, lastName='Barker', length=405.99465, level='paid', location='San Luis Obispo-Paso Robles-Arroyo Grande, CA', method='PUT', page='NextSong', registration=1513009647284, sessionId=2372, song=\"Don't See The Point\", status=200, ts=1513720905284, userAgent='\"Mozilla/5.0 (Windows NT 6.1; WOW64) AppleWebKit/537.36 (KHTML, like Gecko) Chrome/36.0.1985.143 Safari/537.36\"', userId='2373'),\n",
       " Row(artist=None, auth='Logged In', firstName='Jordyn', gender='F', itemInSession=0, lastName='Jones', length=None, level='free', location='Syracuse, NY', method='GET', page='Home', registration=1513648531284, sessionId=1746, song=None, status=200, ts=1513720913284, userAgent='\"Mozilla/5.0 (Macintosh; Intel Mac OS X 10_9_4) AppleWebKit/537.36 (KHTML, like Gecko) Chrome/37.0.2062.94 Safari/537.36\"', userId='1747')]"
      ]
     },
     "execution_count": 5,
     "metadata": {},
     "output_type": "execute_result"
    }
   ],
   "source": [
    "user_log.take(5)"
   ]
  },
  {
   "cell_type": "code",
   "execution_count": 6,
   "metadata": {},
   "outputs": [
    {
     "name": "stdout",
     "output_type": "stream",
     "text": [
      "root\n",
      " |-- artist: string (nullable = true)\n",
      " |-- auth: string (nullable = true)\n",
      " |-- firstName: string (nullable = true)\n",
      " |-- gender: string (nullable = true)\n",
      " |-- itemInSession: long (nullable = true)\n",
      " |-- lastName: string (nullable = true)\n",
      " |-- length: double (nullable = true)\n",
      " |-- level: string (nullable = true)\n",
      " |-- location: string (nullable = true)\n",
      " |-- method: string (nullable = true)\n",
      " |-- page: string (nullable = true)\n",
      " |-- registration: long (nullable = true)\n",
      " |-- sessionId: long (nullable = true)\n",
      " |-- song: string (nullable = true)\n",
      " |-- status: long (nullable = true)\n",
      " |-- ts: long (nullable = true)\n",
      " |-- userAgent: string (nullable = true)\n",
      " |-- userId: string (nullable = true)\n",
      "\n"
     ]
    }
   ],
   "source": [
    "user_log.printSchema()"
   ]
  },
  {
   "cell_type": "code",
   "execution_count": 7,
   "metadata": {},
   "outputs": [
    {
     "name": "stdout",
     "output_type": "stream",
     "text": [
      "+-------+-----------------+----------+---------+------+------------------+--------+-----------------+-----+------------+------+-------+--------------------+------------------+--------+-----------------+-------------------+--------------------+------------------+\n",
      "|summary|           artist|      auth|firstName|gender|     itemInSession|lastName|           length|level|    location|method|   page|        registration|         sessionId|    song|           status|                 ts|           userAgent|            userId|\n",
      "+-------+-----------------+----------+---------+------+------------------+--------+-----------------+-----+------------+------+-------+--------------------+------------------+--------+-----------------+-------------------+--------------------+------------------+\n",
      "|  count|             8347|     10000|     9664|  9664|             10000|    9664|             8347|10000|        9664| 10000|  10000|                9664|             10000|    8347|            10000|              10000|                9664|             10000|\n",
      "|   mean|            461.0|      null|     null|  null|           19.6734|    null|249.6486587492506| null|        null|  null|   null|1.504695369588739...|         4436.7511|Infinity|         202.8984| 1.5137859954164E12|                null|1442.4413286423842|\n",
      "| stddev|            300.0|      null|     null|  null|25.382114916132608|    null|95.00437130781461| null|        null|  null|   null|  8.47314252131656E9|2043.1281541827561|     NaN|18.04179115450588|3.290828862357974E7|                null| 829.8909432082621|\n",
      "|    min|              !!!|     Guest|   Aakash|     F|                 0| Acevedo|          1.12281| free|Aberdeen, WA|   GET|  About|       1463503881284|                 9|      #1|              200|      1513720872284|\"Mozilla/5.0 (Mac...|                  |\n",
      "|    max|ÃÂlafur Arnalds|Logged Out|     Zoie|     M|               163|  Zuniga|        1806.8371| paid|    Yuma, AZ|   PUT|Upgrade|       1513760702284|              7144|wingless|              404|      1513848349284|Mozilla/5.0 (comp...|               999|\n",
      "+-------+-----------------+----------+---------+------+------------------+--------+-----------------+-----+------------+------+-------+--------------------+------------------+--------+-----------------+-------------------+--------------------+------------------+\n",
      "\n"
     ]
    }
   ],
   "source": [
    "user_log.describe().show()"
   ]
  },
  {
   "cell_type": "code",
   "execution_count": 8,
   "metadata": {},
   "outputs": [
    {
     "name": "stdout",
     "output_type": "stream",
     "text": [
      "+-------+-----------------+\n",
      "|summary|           artist|\n",
      "+-------+-----------------+\n",
      "|  count|             8347|\n",
      "|   mean|            461.0|\n",
      "| stddev|            300.0|\n",
      "|    min|              !!!|\n",
      "|    max|ÃÂlafur Arnalds|\n",
      "+-------+-----------------+\n",
      "\n"
     ]
    }
   ],
   "source": [
    "user_log.describe(\"artist\").show()"
   ]
  },
  {
   "cell_type": "code",
   "execution_count": 9,
   "metadata": {},
   "outputs": [
    {
     "name": "stdout",
     "output_type": "stream",
     "text": [
      "+-------+------------------+\n",
      "|summary|         sessionId|\n",
      "+-------+------------------+\n",
      "|  count|             10000|\n",
      "|   mean|         4436.7511|\n",
      "| stddev|2043.1281541827561|\n",
      "|    min|                 9|\n",
      "|    max|              7144|\n",
      "+-------+------------------+\n",
      "\n"
     ]
    }
   ],
   "source": [
    "user_log.describe(\"sessionId\").show()"
   ]
  },
  {
   "cell_type": "code",
   "execution_count": 10,
   "metadata": {},
   "outputs": [
    {
     "data": {
      "text/plain": [
       "10000"
      ]
     },
     "execution_count": 10,
     "metadata": {},
     "output_type": "execute_result"
    }
   ],
   "source": [
    "user_log.count()"
   ]
  },
  {
   "cell_type": "code",
   "execution_count": 11,
   "metadata": {},
   "outputs": [
    {
     "name": "stdout",
     "output_type": "stream",
     "text": [
      "+----------------+\n",
      "|            page|\n",
      "+----------------+\n",
      "|           About|\n",
      "|       Downgrade|\n",
      "|           Error|\n",
      "|            Help|\n",
      "|            Home|\n",
      "|           Login|\n",
      "|          Logout|\n",
      "|        NextSong|\n",
      "|   Save Settings|\n",
      "|        Settings|\n",
      "|Submit Downgrade|\n",
      "|  Submit Upgrade|\n",
      "|         Upgrade|\n",
      "+----------------+\n",
      "\n"
     ]
    }
   ],
   "source": [
    "user_log.select(\"page\").dropDuplicates().sort(\"page\").show()"
   ]
  },
  {
   "cell_type": "code",
   "execution_count": 12,
   "metadata": {},
   "outputs": [
    {
     "data": {
      "text/plain": [
       "[Row(userId='1046', firstname='Kenneth', page='NextSong', song='Christmas Tears Will Fall'),\n",
       " Row(userId='1046', firstname='Kenneth', page='NextSong', song='Be Wary Of A Woman'),\n",
       " Row(userId='1046', firstname='Kenneth', page='NextSong', song='Public Enemy No.1'),\n",
       " Row(userId='1046', firstname='Kenneth', page='NextSong', song='Reign Of The Tyrants'),\n",
       " Row(userId='1046', firstname='Kenneth', page='NextSong', song='Father And Son'),\n",
       " Row(userId='1046', firstname='Kenneth', page='NextSong', song='No. 5'),\n",
       " Row(userId='1046', firstname='Kenneth', page='NextSong', song='Seventeen'),\n",
       " Row(userId='1046', firstname='Kenneth', page='Home', song=None),\n",
       " Row(userId='1046', firstname='Kenneth', page='NextSong', song='War on war'),\n",
       " Row(userId='1046', firstname='Kenneth', page='NextSong', song='Killermont Street'),\n",
       " Row(userId='1046', firstname='Kenneth', page='NextSong', song='Black & Blue'),\n",
       " Row(userId='1046', firstname='Kenneth', page='Logout', song=None),\n",
       " Row(userId='1046', firstname='Kenneth', page='Home', song=None),\n",
       " Row(userId='1046', firstname='Kenneth', page='NextSong', song='Heads Will Roll'),\n",
       " Row(userId='1046', firstname='Kenneth', page='NextSong', song='Bleed It Out [Live At Milton Keynes]'),\n",
       " Row(userId='1046', firstname='Kenneth', page='NextSong', song='Clocks'),\n",
       " Row(userId='1046', firstname='Kenneth', page='NextSong', song='Love Rain'),\n",
       " Row(userId='1046', firstname='Kenneth', page='NextSong', song=\"Ry Ry's Song (Album Version)\"),\n",
       " Row(userId='1046', firstname='Kenneth', page='NextSong', song='The Invisible Man'),\n",
       " Row(userId='1046', firstname='Kenneth', page='NextSong', song='Catch You Baby (Steve Pitron & Max Sanna Radio Edit)'),\n",
       " Row(userId='1046', firstname='Kenneth', page='NextSong', song='Ask The Mountains'),\n",
       " Row(userId='1046', firstname='Kenneth', page='NextSong', song='Given Up (Album Version)'),\n",
       " Row(userId='1046', firstname='Kenneth', page='NextSong', song='El Cuatrero'),\n",
       " Row(userId='1046', firstname='Kenneth', page='NextSong', song='Hero/Heroine'),\n",
       " Row(userId='1046', firstname='Kenneth', page='NextSong', song='Spring'),\n",
       " Row(userId='1046', firstname='Kenneth', page='NextSong', song='Rising Moon'),\n",
       " Row(userId='1046', firstname='Kenneth', page='NextSong', song='Tough Little Boys'),\n",
       " Row(userId='1046', firstname='Kenneth', page='NextSong', song=\"Qu'Est-Ce Que T'Es Belle\"),\n",
       " Row(userId='1046', firstname='Kenneth', page='NextSong', song='Secrets'),\n",
       " Row(userId='1046', firstname='Kenneth', page='NextSong', song='Under The Gun')]"
      ]
     },
     "execution_count": 12,
     "metadata": {},
     "output_type": "execute_result"
    }
   ],
   "source": [
    "user_log.select([\"userId\", \"firstname\", \"page\", \"song\"]).where(user_log.userId == \"1046\").collect()"
   ]
  },
  {
   "cell_type": "markdown",
   "metadata": {},
   "source": [
    "# Calculating Statistics by Hour"
   ]
  },
  {
   "cell_type": "code",
   "execution_count": 13,
   "metadata": {},
   "outputs": [],
   "source": [
    "get_hour = udf(lambda x: datetime.datetime.fromtimestamp(x / 1000.0). hour)"
   ]
  },
  {
   "cell_type": "code",
   "execution_count": 14,
   "metadata": {},
   "outputs": [],
   "source": [
    "user_log = user_log.withColumn(\"hour\", get_hour(user_log.ts))"
   ]
  },
  {
   "cell_type": "code",
   "execution_count": 15,
   "metadata": {},
   "outputs": [
    {
     "data": {
      "text/plain": [
       "Row(artist='Showaddywaddy', auth='Logged In', firstName='Kenneth', gender='M', itemInSession=112, lastName='Matthews', length=232.93342, level='paid', location='Charlotte-Concord-Gastonia, NC-SC', method='PUT', page='NextSong', registration=1509380319284, sessionId=5132, song='Christmas Tears Will Fall', status=200, ts=1513720872284, userAgent='\"Mozilla/5.0 (Windows NT 6.1) AppleWebKit/537.36 (KHTML, like Gecko) Chrome/36.0.1985.125 Safari/537.36\"', userId='1046', hour='14')"
      ]
     },
     "execution_count": 15,
     "metadata": {},
     "output_type": "execute_result"
    }
   ],
   "source": [
    "user_log.head()"
   ]
  },
  {
   "cell_type": "code",
   "execution_count": 16,
   "metadata": {},
   "outputs": [],
   "source": [
    "songs_in_hour = user_log.filter(user_log.page == \"NextSong\").groupby(user_log.hour).count().orderBy(user_log.hour.cast(\"float\"))"
   ]
  },
  {
   "cell_type": "code",
   "execution_count": 17,
   "metadata": {},
   "outputs": [
    {
     "name": "stdout",
     "output_type": "stream",
     "text": [
      "+----+-----+\n",
      "|hour|count|\n",
      "+----+-----+\n",
      "|   0|  375|\n",
      "|   1|  249|\n",
      "|   2|  216|\n",
      "|   3|  228|\n",
      "|   4|  251|\n",
      "|   5|  339|\n",
      "|   6|  462|\n",
      "|   7|  479|\n",
      "|   8|  484|\n",
      "|   9|  430|\n",
      "|  10|  362|\n",
      "|  11|  295|\n",
      "|  12|  257|\n",
      "|  13|  248|\n",
      "|  14|  369|\n",
      "|  15|  375|\n",
      "|  16|  456|\n",
      "|  17|  454|\n",
      "|  18|  382|\n",
      "|  19|  302|\n",
      "+----+-----+\n",
      "only showing top 20 rows\n",
      "\n"
     ]
    }
   ],
   "source": [
    "songs_in_hour.show()"
   ]
  },
  {
   "cell_type": "code",
   "execution_count": null,
   "metadata": {},
   "outputs": [],
   "source": [
    "songs_in_hour_pd = songs_in_hour.toPandas()\n",
    "songs_in_hour_pd.hour = pd.to_numeric(songs_in_hour_pd.hour)"
   ]
  },
  {
   "cell_type": "code",
   "execution_count": null,
   "metadata": {},
   "outputs": [],
   "source": [
    "plt.scatter(songs_in_hour_pd[\"hour\"], songs_in_hour_pd[\"count\"])\n",
    "plt.xlim(-1, 24);\n",
    "plt.ylim(0, 1.2 * max(songs_in_hour_pd[\"count\"]))\n",
    "plt.xlabel(\"Hour\")\n",
    "plt.ylabel(\"Songs played\");"
   ]
  },
  {
   "cell_type": "markdown",
   "metadata": {},
   "source": [
    "# Drop Rows with Missing Values\n",
    "\n",
    "As you'll see, it turns out there are no missing values in the userID or session columns. But there are userID values that are empty strings."
   ]
  },
  {
   "cell_type": "code",
   "execution_count": 37,
   "metadata": {},
   "outputs": [],
   "source": [
    "user_log_valid = user_log.dropna(how = \"any\", subset = [\"userId\", \"sessionId\"])"
   ]
  },
  {
   "cell_type": "code",
   "execution_count": 39,
   "metadata": {},
   "outputs": [
    {
     "name": "stdout",
     "output_type": "stream",
     "text": [
      "<class 'pyspark.sql.dataframe.DataFrame'>\n"
     ]
    }
   ],
   "source": [
    "user_log_valid.count()"
   ]
  },
  {
   "cell_type": "code",
   "execution_count": 20,
   "metadata": {},
   "outputs": [
    {
     "name": "stdout",
     "output_type": "stream",
     "text": [
      "+------+\n",
      "|userId|\n",
      "+------+\n",
      "|      |\n",
      "|    10|\n",
      "|   100|\n",
      "|  1000|\n",
      "|  1003|\n",
      "|  1005|\n",
      "|  1006|\n",
      "|  1017|\n",
      "|  1019|\n",
      "|  1020|\n",
      "|  1022|\n",
      "|  1025|\n",
      "|  1030|\n",
      "|  1035|\n",
      "|  1037|\n",
      "|   104|\n",
      "|  1040|\n",
      "|  1042|\n",
      "|  1043|\n",
      "|  1046|\n",
      "+------+\n",
      "only showing top 20 rows\n",
      "\n"
     ]
    }
   ],
   "source": [
    "user_log.select(\"userId\").dropDuplicates().sort(\"userId\").show()"
   ]
  },
  {
   "cell_type": "code",
   "execution_count": 21,
   "metadata": {},
   "outputs": [],
   "source": [
    "user_log_valid = user_log_valid.filter(user_log_valid[\"userId\"] != \"\")"
   ]
  },
  {
   "cell_type": "code",
   "execution_count": 22,
   "metadata": {},
   "outputs": [
    {
     "data": {
      "text/plain": [
       "9664"
      ]
     },
     "execution_count": 22,
     "metadata": {},
     "output_type": "execute_result"
    }
   ],
   "source": [
    "user_log_valid.count()"
   ]
  },
  {
   "cell_type": "markdown",
   "metadata": {},
   "source": [
    "# Users Downgrade Their Accounts\n",
    "\n",
    "Find when users downgrade their accounts and then flag those log entries. Then use a window function and cumulative sum to distinguish each user's data as either pre or post downgrade events."
   ]
  },
  {
   "cell_type": "code",
   "execution_count": null,
   "metadata": {},
   "outputs": [],
   "source": [
    "user_log_valid.filter(\"page = 'Submit Downgrade'\").show()"
   ]
  },
  {
   "cell_type": "code",
   "execution_count": null,
   "metadata": {},
   "outputs": [],
   "source": [
    "user_log.select([\"userId\", \"firstname\", \"page\", \"level\", \"song\"]).where(user_log.userId == \"1138\").collect()"
   ]
  },
  {
   "cell_type": "code",
   "execution_count": 23,
   "metadata": {},
   "outputs": [],
   "source": [
    "flag_downgrade_event = udf(lambda x: 1 if x == \"Submit Downgrade\" else 0, IntegerType())"
   ]
  },
  {
   "cell_type": "code",
   "execution_count": 24,
   "metadata": {},
   "outputs": [],
   "source": [
    "user_log_valid = user_log_valid.withColumn(\"downgraded\", flag_downgrade_event(\"page\"))"
   ]
  },
  {
   "cell_type": "code",
   "execution_count": 27,
   "metadata": {},
   "outputs": [
    {
     "data": {
      "text/plain": [
       "Row(artist='Showaddywaddy', auth='Logged In', firstName='Kenneth', gender='M', itemInSession=112, lastName='Matthews', length=232.93342, level='paid', location='Charlotte-Concord-Gastonia, NC-SC', method='PUT', page='NextSong', registration=1509380319284, sessionId=5132, song='Christmas Tears Will Fall', status=200, ts=1513720872284, userAgent='\"Mozilla/5.0 (Windows NT 6.1) AppleWebKit/537.36 (KHTML, like Gecko) Chrome/36.0.1985.125 Safari/537.36\"', userId='1046', hour='14', downgraded=0)"
      ]
     },
     "execution_count": 27,
     "metadata": {},
     "output_type": "execute_result"
    }
   ],
   "source": [
    "user_log_valid.head()"
   ]
  },
  {
   "cell_type": "code",
   "execution_count": 29,
   "metadata": {},
   "outputs": [],
   "source": [
    "from pyspark.sql import Window"
   ]
  },
  {
   "cell_type": "code",
   "execution_count": 30,
   "metadata": {},
   "outputs": [],
   "source": [
    "windowval = Window.partitionBy(\"userId\").orderBy(desc(\"ts\")).rangeBetween(Window.unboundedPreceding, 0)"
   ]
  },
  {
   "cell_type": "code",
   "execution_count": 31,
   "metadata": {},
   "outputs": [],
   "source": [
    "user_log_valid = user_log_valid.withColumn(\"phase\", Fsum(\"downgraded\").over(windowval))"
   ]
  },
  {
   "cell_type": "code",
   "execution_count": 32,
   "metadata": {},
   "outputs": [
    {
     "data": {
      "text/plain": [
       "[Row(userId='1138', firstname='Kelly', ts=1513729066284, page='Home', level='paid', phase=1),\n",
       " Row(userId='1138', firstname='Kelly', ts=1513729066284, page='NextSong', level='paid', phase=1),\n",
       " Row(userId='1138', firstname='Kelly', ts=1513729313284, page='NextSong', level='paid', phase=1),\n",
       " Row(userId='1138', firstname='Kelly', ts=1513729552284, page='NextSong', level='paid', phase=1),\n",
       " Row(userId='1138', firstname='Kelly', ts=1513729783284, page='NextSong', level='paid', phase=1),\n",
       " Row(userId='1138', firstname='Kelly', ts=1513730001284, page='NextSong', level='paid', phase=1),\n",
       " Row(userId='1138', firstname='Kelly', ts=1513730263284, page='NextSong', level='paid', phase=1),\n",
       " Row(userId='1138', firstname='Kelly', ts=1513730518284, page='NextSong', level='paid', phase=1),\n",
       " Row(userId='1138', firstname='Kelly', ts=1513730768284, page='NextSong', level='paid', phase=1),\n",
       " Row(userId='1138', firstname='Kelly', ts=1513731182284, page='NextSong', level='paid', phase=1),\n",
       " Row(userId='1138', firstname='Kelly', ts=1513731435284, page='NextSong', level='paid', phase=1),\n",
       " Row(userId='1138', firstname='Kelly', ts=1513731695284, page='NextSong', level='paid', phase=1),\n",
       " Row(userId='1138', firstname='Kelly', ts=1513731857284, page='NextSong', level='paid', phase=1),\n",
       " Row(userId='1138', firstname='Kelly', ts=1513732160284, page='NextSong', level='paid', phase=1),\n",
       " Row(userId='1138', firstname='Kelly', ts=1513732302284, page='NextSong', level='paid', phase=1),\n",
       " Row(userId='1138', firstname='Kelly', ts=1513732540284, page='NextSong', level='paid', phase=1),\n",
       " Row(userId='1138', firstname='Kelly', ts=1513732770284, page='NextSong', level='paid', phase=1),\n",
       " Row(userId='1138', firstname='Kelly', ts=1513732994284, page='NextSong', level='paid', phase=1),\n",
       " Row(userId='1138', firstname='Kelly', ts=1513733223284, page='NextSong', level='paid', phase=1),\n",
       " Row(userId='1138', firstname='Kelly', ts=1513733456284, page='NextSong', level='paid', phase=1),\n",
       " Row(userId='1138', firstname='Kelly', ts=1513733738284, page='NextSong', level='paid', phase=1),\n",
       " Row(userId='1138', firstname='Kelly', ts=1513733941284, page='NextSong', level='paid', phase=1),\n",
       " Row(userId='1138', firstname='Kelly', ts=1513734289284, page='NextSong', level='paid', phase=1),\n",
       " Row(userId='1138', firstname='Kelly', ts=1513734598284, page='NextSong', level='paid', phase=1),\n",
       " Row(userId='1138', firstname='Kelly', ts=1513734863284, page='NextSong', level='paid', phase=1),\n",
       " Row(userId='1138', firstname='Kelly', ts=1513735174284, page='NextSong', level='paid', phase=1),\n",
       " Row(userId='1138', firstname='Kelly', ts=1513735385284, page='NextSong', level='paid', phase=1),\n",
       " Row(userId='1138', firstname='Kelly', ts=1513736040284, page='NextSong', level='paid', phase=1),\n",
       " Row(userId='1138', firstname='Kelly', ts=1513736237284, page='NextSong', level='paid', phase=1),\n",
       " Row(userId='1138', firstname='Kelly', ts=1513736446284, page='NextSong', level='paid', phase=1),\n",
       " Row(userId='1138', firstname='Kelly', ts=1513736709284, page='NextSong', level='paid', phase=1),\n",
       " Row(userId='1138', firstname='Kelly', ts=1513736915284, page='NextSong', level='paid', phase=1),\n",
       " Row(userId='1138', firstname='Kelly', ts=1513737160284, page='NextSong', level='paid', phase=1),\n",
       " Row(userId='1138', firstname='Kelly', ts=1513737460284, page='NextSong', level='paid', phase=1),\n",
       " Row(userId='1138', firstname='Kelly', ts=1513737728284, page='NextSong', level='paid', phase=1),\n",
       " Row(userId='1138', firstname='Kelly', ts=1513737936284, page='NextSong', level='paid', phase=1),\n",
       " Row(userId='1138', firstname='Kelly', ts=1513738144284, page='NextSong', level='paid', phase=1),\n",
       " Row(userId='1138', firstname='Kelly', ts=1513738197284, page='Help', level='paid', phase=1),\n",
       " Row(userId='1138', firstname='Kelly', ts=1513738432284, page='NextSong', level='paid', phase=1),\n",
       " Row(userId='1138', firstname='Kelly', ts=1513763195284, page='NextSong', level='paid', phase=1),\n",
       " Row(userId='1138', firstname='Kelly', ts=1513763453284, page='NextSong', level='paid', phase=1),\n",
       " Row(userId='1138', firstname='Kelly', ts=1513763622284, page='NextSong', level='paid', phase=1),\n",
       " Row(userId='1138', firstname='Kelly', ts=1513763890284, page='NextSong', level='paid', phase=1),\n",
       " Row(userId='1138', firstname='Kelly', ts=1513764238284, page='NextSong', level='paid', phase=1),\n",
       " Row(userId='1138', firstname='Kelly', ts=1513764462284, page='NextSong', level='paid', phase=1),\n",
       " Row(userId='1138', firstname='Kelly', ts=1513764782284, page='NextSong', level='paid', phase=1),\n",
       " Row(userId='1138', firstname='Kelly', ts=1513765075284, page='NextSong', level='paid', phase=1),\n",
       " Row(userId='1138', firstname='Kelly', ts=1513765075284, page='Home', level='paid', phase=1),\n",
       " Row(userId='1138', firstname='Kelly', ts=1513765448284, page='NextSong', level='paid', phase=1),\n",
       " Row(userId='1138', firstname='Kelly', ts=1513765655284, page='NextSong', level='paid', phase=1),\n",
       " Row(userId='1138', firstname='Kelly', ts=1513765818284, page='NextSong', level='paid', phase=1),\n",
       " Row(userId='1138', firstname='Kelly', ts=1513766091284, page='NextSong', level='paid', phase=1),\n",
       " Row(userId='1138', firstname='Kelly', ts=1513766189284, page='NextSong', level='paid', phase=1),\n",
       " Row(userId='1138', firstname='Kelly', ts=1513766385284, page='NextSong', level='paid', phase=1),\n",
       " Row(userId='1138', firstname='Kelly', ts=1513766599284, page='NextSong', level='paid', phase=1),\n",
       " Row(userId='1138', firstname='Kelly', ts=1513766838284, page='NextSong', level='paid', phase=1),\n",
       " Row(userId='1138', firstname='Kelly', ts=1513767203284, page='NextSong', level='paid', phase=1),\n",
       " Row(userId='1138', firstname='Kelly', ts=1513767413284, page='NextSong', level='paid', phase=1),\n",
       " Row(userId='1138', firstname='Kelly', ts=1513767643284, page='NextSong', level='paid', phase=1),\n",
       " Row(userId='1138', firstname='Kelly', ts=1513768012284, page='NextSong', level='paid', phase=1),\n",
       " Row(userId='1138', firstname='Kelly', ts=1513768242284, page='NextSong', level='paid', phase=1),\n",
       " Row(userId='1138', firstname='Kelly', ts=1513768452284, page='NextSong', level='paid', phase=1),\n",
       " Row(userId='1138', firstname='Kelly', ts=1513768453284, page='Downgrade', level='paid', phase=1),\n",
       " Row(userId='1138', firstname='Kelly', ts=1513768454284, page='Submit Downgrade', level='paid', phase=1),\n",
       " Row(userId='1138', firstname='Kelly', ts=1513768456284, page='Home', level='free', phase=0),\n",
       " Row(userId='1138', firstname='Kelly', ts=1513814880284, page='NextSong', level='free', phase=0),\n",
       " Row(userId='1138', firstname='Kelly', ts=1513821430284, page='Home', level='free', phase=0),\n",
       " Row(userId='1138', firstname='Kelly', ts=1513833144284, page='NextSong', level='free', phase=0)]"
      ]
     },
     "execution_count": 32,
     "metadata": {},
     "output_type": "execute_result"
    }
   ],
   "source": [
    "user_log_valid.select([\"userId\", \"firstname\", \"ts\", \"page\", \"level\", \"phase\"]).where(user_log.userId == \"1138\").sort(\"ts\").collect()"
   ]
  },
  {
   "cell_type": "code",
   "execution_count": 66,
   "metadata": {},
   "outputs": [],
   "source": [
    "function = udf(lambda ishome : int(ishome == 'Home'), IntegerType())\n",
    "\n",
    "user_window = Window \\\n",
    "    .partitionBy('userID') \\\n",
    "    .orderBy(desc('ts')) \\\n",
    "    .rangeBetween(Window.unboundedPreceding, 0)\n",
    "\n",
    "cusum = user_log.filter((user_log.page == 'NextSong') | (user_log.page == 'Home')) \\\n",
    "    .select('userID', 'page', 'ts') \\\n",
    "    .withColumn('homevisit', function(col('page'))) \\\n",
    "    .withColumn('period', Fsum('homevisit').over(user_window))"
   ]
  },
  {
   "cell_type": "code",
   "execution_count": 68,
   "metadata": {},
   "outputs": [
    {
     "name": "stdout",
     "output_type": "stream",
     "text": [
      "+------+------+-------------+\n",
      "|userID|period|count(period)|\n",
      "+------+------+-------------+\n",
      "|  1436|     0|            2|\n",
      "|  2088|     1|           13|\n",
      "|  2162|     0|           19|\n",
      "|  2162|     2|           15|\n",
      "|  2294|     0|            4|\n",
      "|  2294|     1|           17|\n",
      "|  2294|     2|            3|\n",
      "|  2294|     3|           16|\n",
      "|  2294|     4|            4|\n",
      "|  2294|     5|           11|\n",
      "|  2904|     0|            1|\n",
      "|   691|     1|            3|\n",
      "|  1394|     0|            9|\n",
      "|  1394|     1|           17|\n",
      "|  2275|     0|            3|\n",
      "|  2756|     0|            4|\n",
      "|  2756|     2|            1|\n",
      "|   451|     0|            1|\n",
      "|   451|     1|            1|\n",
      "|   800|     1|            2|\n",
      "+------+------+-------------+\n",
      "only showing top 20 rows\n",
      "\n"
     ]
    }
   ],
   "source": [
    "cusum.filter((cusum.page == 'NextSong')) \\\n",
    "    .groupBy('userID', 'period') \\\n",
    "    .agg({'period':'count'}).show()"
   ]
  },
  {
   "cell_type": "code",
   "execution_count": 67,
   "metadata": {},
   "outputs": [
    {
     "name": "stdout",
     "output_type": "stream",
     "text": [
      "+------------------+\n",
      "|avg(count(period))|\n",
      "+------------------+\n",
      "| 6.898347107438017|\n",
      "+------------------+\n",
      "\n"
     ]
    }
   ],
   "source": [
    "cusum.filter((cusum.page == 'NextSong')) \\\n",
    "    .groupBy('userID', 'period') \\\n",
    "    .agg({'period':'count'}) \\\n",
    "    .agg({'count(period)':'avg'}).show()"
   ]
  },
  {
   "cell_type": "code",
   "execution_count": 60,
   "metadata": {},
   "outputs": [],
   "source": [
    "cusum2=cusum.where(cusum.page==\"NextSong\").groupBy(\"userId\",\"period\").count().withColumnRenamed(\"count\",\"songs\")"
   ]
  },
  {
   "cell_type": "code",
   "execution_count": 62,
   "metadata": {},
   "outputs": [
    {
     "name": "stdout",
     "output_type": "stream",
     "text": [
      "+------+------+-----+\n",
      "|userId|period|songs|\n",
      "+------+------+-----+\n",
      "|  1436|     0|    2|\n",
      "|  2088|     1|   13|\n",
      "|  2162|     0|   19|\n",
      "|  2162|     2|   15|\n",
      "|  2294|     0|    4|\n",
      "|  2294|     1|   17|\n",
      "|  2294|     2|    3|\n",
      "|  2294|     3|   16|\n",
      "|  2294|     4|    4|\n",
      "|  2294|     5|   11|\n",
      "|  2904|     0|    1|\n",
      "|   691|     1|    3|\n",
      "|  1394|     0|    9|\n",
      "|  1394|     1|   17|\n",
      "|  2275|     0|    3|\n",
      "|  2756|     0|    4|\n",
      "|  2756|     2|    1|\n",
      "|   451|     0|    1|\n",
      "|   451|     1|    1|\n",
      "|   800|     1|    2|\n",
      "+------+------+-----+\n",
      "only showing top 20 rows\n",
      "\n"
     ]
    }
   ],
   "source": [
    "cusum2.show()"
   ]
  },
  {
   "cell_type": "code",
   "execution_count": 65,
   "metadata": {},
   "outputs": [
    {
     "name": "stdout",
     "output_type": "stream",
     "text": [
      "+-----------------+\n",
      "|       avg(songs)|\n",
      "+-----------------+\n",
      "|6.898347107438017|\n",
      "+-----------------+\n",
      "\n"
     ]
    }
   ],
   "source": [
    "cusum2.groupBy().avg('songs').show()"
   ]
  },
  {
   "cell_type": "code",
   "execution_count": 69,
   "metadata": {},
   "outputs": [
    {
     "name": "stdout",
     "output_type": "stream",
     "text": [
      "<class 'pyspark.sql.dataframe.DataFrame'>\n"
     ]
    }
   ],
   "source": [
    "print(type(user_log))"
   ]
  },
  {
   "cell_type": "code",
   "execution_count": 70,
   "metadata": {},
   "outputs": [],
   "source": [
    "user_log_pd = user_log.toPandas()"
   ]
  },
  {
   "cell_type": "code",
   "execution_count": 71,
   "metadata": {},
   "outputs": [
    {
     "name": "stdout",
     "output_type": "stream",
     "text": [
      "<class 'pandas.core.frame.DataFrame'>\n"
     ]
    }
   ],
   "source": [
    "print(type(user_log_pd))"
   ]
  },
  {
   "cell_type": "code",
   "execution_count": 72,
   "metadata": {},
   "outputs": [],
   "source": [
    "user_log.createOrReplaceTempView(\"user_log_table\")"
   ]
  },
  {
   "cell_type": "code",
   "execution_count": 95,
   "metadata": {},
   "outputs": [],
   "source": [
    "user_log2 = spark.sql(\"SELECT artist, iteminsession FROM user_log_table order by userid desc LIMIT 5\")"
   ]
  },
  {
   "cell_type": "code",
   "execution_count": 93,
   "metadata": {},
   "outputs": [
    {
     "name": "stdout",
     "output_type": "stream",
     "text": [
      "<class 'pyspark.sql.dataframe.DataFrame'>\n"
     ]
    }
   ],
   "source": [
    "print(type(user_log2))"
   ]
  },
  {
   "cell_type": "code",
   "execution_count": 96,
   "metadata": {},
   "outputs": [
    {
     "name": "stdout",
     "output_type": "stream",
     "text": [
      "           artist  iteminsession\n",
      "0        Rapper K              0\n",
      "1          Enigma              0\n",
      "2            None              1\n",
      "3       Radiohead              1\n",
      "4  Babylon Circus              1\n"
     ]
    }
   ],
   "source": [
    "print(user_log2.toPandas())"
   ]
  },
  {
   "cell_type": "code",
   "execution_count": 97,
   "metadata": {},
   "outputs": [
    {
     "name": "stdout",
     "output_type": "stream",
     "text": [
      "+--------------------+---------+---------+------+-------------+---------+---------+-----+--------------------+------+--------+-------------+---------+--------------------+------+-------------+--------------------+------+\n",
      "|              artist|     auth|firstName|gender|itemInSession| lastName|   length|level|            location|method|    page| registration|sessionId|                song|status|           ts|           userAgent|userId|\n",
      "+--------------------+---------+---------+------+-------------+---------+---------+-----+--------------------+------+--------+-------------+---------+--------------------+------+-------------+--------------------+------+\n",
      "|       Showaddywaddy|Logged In|  Kenneth|     M|          112| Matthews|232.93342| paid|Charlotte-Concord...|   PUT|NextSong|1509380319284|     5132|Christmas Tears W...|   200|1513720872284|\"Mozilla/5.0 (Win...|  1046|\n",
      "|          Lily Allen|Logged In|Elizabeth|     F|            7|    Chase|195.23873| free|Shreveport-Bossie...|   PUT|NextSong|1512718541284|     5027|       Cheryl Tweedy|   200|1513720878284|\"Mozilla/5.0 (Win...|  1000|\n",
      "|Cobra Starship Fe...|Logged In|     Vera|     F|            6|Blackwell|196.20526| paid|          Racine, WI|   PUT|NextSong|1499855749284|     5516|Good Girls Go Bad...|   200|1513720881284|\"Mozilla/5.0 (Mac...|  2219|\n",
      "|          Alex Smoke|Logged In|   Sophee|     F|            8|   Barker|405.99465| paid|San Luis Obispo-P...|   PUT|NextSong|1513009647284|     2372| Don't See The Point|   200|1513720905284|\"Mozilla/5.0 (Win...|  2373|\n",
      "|                null|Logged In|   Jordyn|     F|            0|    Jones|     null| free|        Syracuse, NY|   GET|    Home|1513648531284|     1746|                null|   200|1513720913284|\"Mozilla/5.0 (Mac...|  1747|\n",
      "|                null|Logged In|   Jordyn|     F|            1|    Jones|     null| free|        Syracuse, NY|   GET|Settings|1513648531284|     1746|                null|   200|1513720932284|\"Mozilla/5.0 (Mac...|  1747|\n",
      "|              Redman|Logged In|    Paige|     F|            0|   Hunter|154.53995| free|       Brownwood, TX|   PUT|NextSong|1498414068284|     4406|        Smoke Buddah|   200|1513720955284|\"Mozilla/5.0 (Mac...|  1162|\n",
      "|     Ulrich Schnauss|Logged In|  Gabriel|     M|            2|     Koch|402.93832| paid|     Panama City, FL|   PUT|NextSong|1505820418284|     1060|           On My Own|   200|1513720959284|Mozilla/5.0 (Wind...|  1061|\n",
      "|                null|Logged In|    Mason|     M|            2|   Thomas|     null| paid|Indianapolis-Carm...|   GET|    Home|1487015656284|     5661|                null|   200|1513720959284|Mozilla/5.0 (comp...|   748|\n",
      "|                null|Logged In|Alexander|     M|            0|    Short|     null| free|       Green Bay, WI|   GET|    Home|1513594398284|     3689|                null|   200|1513720980284|\"Mozilla/5.0 (Win...|   597|\n",
      "|               Jay-Z|Logged In|  Micheal|     M|           23|   Morgan|223.26812| paid|        Sterling, CO|   PUT|NextSong|1485051492284|     5175|Heart Of The City...|   200|1513720983284|\"Mozilla/5.0 (Win...|  1806|\n",
      "|         Evanescence|Logged In|    Mason|     M|            3|   Thomas|237.11302| paid|Indianapolis-Carm...|   PUT|NextSong|1487015656284|     5661|    Bring Me To Life|   200|1513720993284|Mozilla/5.0 (comp...|   748|\n",
      "|     Scissor Sisters|Logged In|   Justin|     M|           82|    Jones|218.01751| paid|          Dayton, TN|   PUT|NextSong|1504706730284|     1175|               Laura|   200|1513721031284|\"Mozilla/5.0 (Win...|  1176|\n",
      "|        3 Doors Down|Logged In|     Zoie|     F|           28|   Wright|237.13914| paid|Chicago-Napervill...|   PUT|NextSong|1512172030284|     2163|    Here Without You|   200|1513721045284|\"Mozilla/5.0 (Mac...|  2164|\n",
      "|       George Younce|Logged In|  Malachi|     M|            3|     Lane|191.68608| free|     Sioux Falls, SD|   PUT|NextSong|1510109243284|     5272|This Old House w/...|   200|1513721058284|Mozilla/5.0 (Wind...|  2146|\n",
      "|              Aly-Us|Logged In|     Vera|     F|            7|Blackwell|383.58159| paid|          Racine, WI|   PUT|NextSong|1499855749284|     5516|Follow Me (Club Mix)|   200|1513721077284|\"Mozilla/5.0 (Mac...|  2219|\n",
      "|                null|Logged In|   Justin|     M|           83|    Jones|     null| paid|          Dayton, TN|   GET|    Home|1504706730284|     1175|                null|   200|1513721088284|\"Mozilla/5.0 (Win...|  1176|\n",
      "|            BjÃÂ¶rk|Logged In|    Elena|     F|            0|   Newman|348.57751| free|Boston-Cambridge-...|   PUT|NextSong|1513494341284|     2903|                Undo|   200|1513721095284|Mozilla/5.0 (Wind...|  2904|\n",
      "|      David Bromberg|Logged In|Alexander|     M|            1|    Short|146.36363| free|       Green Bay, WI|   PUT|NextSong|1513594398284|     3689|Sheebeg And Sheemore|   200|1513721097284|\"Mozilla/5.0 (Win...|   597|\n",
      "|          Nickelback|Logged In|  Abigail|     F|            4| Davidson|238.18404| paid|Lansing-East Lans...|   PUT|NextSong|1513173389284|     4591|Far Away (Album V...|   200|1513721104284|\"Mozilla/5.0 (Mac...|   226|\n",
      "+--------------------+---------+---------+------+-------------+---------+---------+-----+--------------------+------+--------+-------------+---------+--------------------+------+-------------+--------------------+------+\n",
      "only showing top 20 rows\n",
      "\n"
     ]
    }
   ],
   "source": [
    "spark.sql(\"select * from user_log_table\").show()"
   ]
  },
  {
   "cell_type": "code",
   "execution_count": 122,
   "metadata": {},
   "outputs": [],
   "source": [
    "is_home = spark.sql('''select userid,page,ts,case when page='Home' then 1 else 0 end home from user_log_table \n",
    "where userid !='' and page in('Home','NextSong') \n",
    "order by userid, ts desc\n",
    "''')"
   ]
  },
  {
   "cell_type": "code",
   "execution_count": 123,
   "metadata": {},
   "outputs": [
    {
     "name": "stdout",
     "output_type": "stream",
     "text": [
      "+------+--------+-------------+----+\n",
      "|userid|    page|           ts|home|\n",
      "+------+--------+-------------+----+\n",
      "|    10|NextSong|1513828388284|   1|\n",
      "|    10|NextSong|1513790894284|   1|\n",
      "|   100|    Home|1513839673284|  10|\n",
      "|   100|NextSong|1513776308284|   1|\n",
      "|   100|    Home|1513776194284|  10|\n",
      "|   100|NextSong|1513775710284|   1|\n",
      "|   100|NextSong|1513775556284|   1|\n",
      "|   100|    Home|1513775431284|  10|\n",
      "|   100|NextSong|1513750442284|   1|\n",
      "|   100|NextSong|1513750214284|   1|\n",
      "|  1000|NextSong|1513720878284|   1|\n",
      "|  1003|    Home|1513749525284|  10|\n",
      "|  1003|NextSong|1513749516284|   1|\n",
      "|  1003|    Home|1513749501284|  10|\n",
      "|  1005|NextSong|1513782278284|   1|\n",
      "|  1006|NextSong|1513774019284|   1|\n",
      "|  1006|NextSong|1513773777284|   1|\n",
      "|  1006|NextSong|1513773548284|   1|\n",
      "|  1017|NextSong|1513822643284|   1|\n",
      "|  1017|    Home|1513822400284|  10|\n",
      "+------+--------+-------------+----+\n",
      "only showing top 20 rows\n",
      "\n"
     ]
    }
   ],
   "source": [
    "is_home.show()"
   ]
  },
  {
   "cell_type": "code",
   "execution_count": 124,
   "metadata": {},
   "outputs": [],
   "source": [
    "is_home.createOrReplaceTempView(\"is_home_table\")"
   ]
  },
  {
   "cell_type": "code",
   "execution_count": 126,
   "metadata": {},
   "outputs": [
    {
     "name": "stdout",
     "output_type": "stream",
     "text": [
      "+------+--------+-------------+----+----------+\n",
      "|userid|    page|           ts|home|sum_ishome|\n",
      "+------+--------+-------------+----+----------+\n",
      "|    10|NextSong|1513828388284|   1|         1|\n",
      "|    10|NextSong|1513790894284|   1|         2|\n",
      "|   100|    Home|1513839673284|  10|        10|\n",
      "|   100|NextSong|1513776308284|   1|        11|\n",
      "|   100|    Home|1513776194284|  10|        21|\n",
      "|   100|NextSong|1513775710284|   1|        22|\n",
      "|   100|NextSong|1513775556284|   1|        23|\n",
      "|   100|    Home|1513775431284|  10|        33|\n",
      "|   100|NextSong|1513750442284|   1|        34|\n",
      "|   100|NextSong|1513750214284|   1|        35|\n",
      "|  1000|NextSong|1513720878284|   1|         1|\n",
      "|  1003|    Home|1513749525284|  10|        10|\n",
      "|  1003|NextSong|1513749516284|   1|        11|\n",
      "|  1003|    Home|1513749501284|  10|        21|\n",
      "|  1005|NextSong|1513782278284|   1|         1|\n",
      "|  1006|NextSong|1513774019284|   1|         1|\n",
      "|  1006|NextSong|1513773777284|   1|         2|\n",
      "|  1006|NextSong|1513773548284|   1|         3|\n",
      "|  1017|NextSong|1513822643284|   1|         1|\n",
      "|  1017|    Home|1513822400284|  10|        11|\n",
      "+------+--------+-------------+----+----------+\n",
      "only showing top 20 rows\n",
      "\n"
     ]
    }
   ],
   "source": [
    "spark.sql('''\n",
    "select userid,page,ts,home,\n",
    "sum(home) over(partition by userid order by ts) sum_ishome \n",
    "from is_home_table\n",
    "order by userid,ts desc\n",
    "''').show()"
   ]
  },
  {
   "cell_type": "code",
   "execution_count": null,
   "metadata": {},
   "outputs": [],
   "source": []
  }
 ],
 "metadata": {
  "kernelspec": {
   "display_name": "Python 3",
   "language": "python",
   "name": "python3"
  },
  "language_info": {
   "codemirror_mode": {
    "name": "ipython",
    "version": 3
   },
   "file_extension": ".py",
   "mimetype": "text/x-python",
   "name": "python",
   "nbconvert_exporter": "python",
   "pygments_lexer": "ipython3",
   "version": "3.8.3"
  }
 },
 "nbformat": 4,
 "nbformat_minor": 2
}
