{
 "cells": [
  {
   "cell_type": "markdown",
   "metadata": {},
   "source": [
    "# Project Title\n",
    "### Data Engineering Capstone Project\n",
    "\n",
    "#### Project Summary\n",
    "--describe your project at a high level--\n",
    "\n",
    "The project follows the follow steps:\n",
    "* Step 1: Scope the Project and Gather Data\n",
    "* Step 2: Explore and Assess the Data\n",
    "* Step 3: Define the Data Model\n",
    "* Step 4: Run ETL to Model the Data\n",
    "* Step 5: Complete Project Write Up"
   ]
  },
  {
   "cell_type": "code",
   "execution_count": null,
   "metadata": {},
   "outputs": [],
   "source": [
    "# Do all imports and installs here\n",
    "import pandas as pd"
   ]
  },
  {
   "cell_type": "markdown",
   "metadata": {},
   "source": [
    "### Step 1: Scope the Project and Gather Data\n",
    "\n",
    "#### Scope \n",
    "Explain what you plan to do in the project in more detail. What data do you use? What is your end solution look like? What tools did you use? etc>\n",
    "\n",
    "#### Describe and Gather Data \n",
    "Describe the data sets you're using. Where did it come from? What type of information is included? "
   ]
  },
  {
   "cell_type": "code",
   "execution_count": null,
   "metadata": {},
   "outputs": [],
   "source": [
    "# Read in the data here\n",
    "fname = '../../data/18-83510-I94-Data-2016/i94_apr16_sub.sas7bdat'\n",
    "df = pd.read_sas(fname, 'sas7bdat', encoding=\"ISO-8859-1\")"
   ]
  },
  {
   "cell_type": "code",
   "execution_count": null,
   "metadata": {},
   "outputs": [],
   "source": [
    "df.head()"
   ]
  },
  {
   "cell_type": "code",
   "execution_count": 1,
   "metadata": {},
   "outputs": [],
   "source": [
    "import findspark\n",
    "findspark.init('C:\\spark')\n",
    "               \n",
    "from pyspark.sql import SparkSession\n",
    "\n",
    "spark = SparkSession.builder.\\\n",
    "config(\"spark.jars.packages\",\"saurfang:spark-sas7bdat:2.0.0-s_2.11\")\\\n",
    ".enableHiveSupport().getOrCreate()\n",
    "#df_visits = spark.read.format('com.github.saurfang.sas.spark').load('../../data/18-83510-I94-Data-2016/i94_apr16_sub.sas7bdat')"
   ]
  },
  {
   "cell_type": "code",
   "execution_count": 55,
   "metadata": {},
   "outputs": [],
   "source": [
    "#write to parquet\n",
    "#df_visits.write.parquet(\"sas_data\")\n",
    "df_visits=spark.read.parquet(\"data/immigration_data\")\n",
    "df_demo = spark.read.csv(\"data/us-cities-demographics.csv\", sep=\";\", header=True)\n",
    "df_airports = spark.read.csv(\"data/airport-codes_csv.csv\", header=True)"
   ]
  },
  {
   "cell_type": "markdown",
   "metadata": {},
   "source": [
    "### Step 2: Explore and Assess the Data\n",
    "#### Explore the Data \n",
    "Identify data quality issues, like missing values, duplicate data, etc.\n",
    "\n",
    "#### Cleaning Steps\n",
    "Document steps necessary to clean the data"
   ]
  },
  {
   "cell_type": "code",
   "execution_count": null,
   "metadata": {},
   "outputs": [],
   "source": [
    "# Performing cleaning tasks here\n",
    "# df_visits.show(3)\n",
    "#df_visits.describe()\n",
    "df_visits.count()"
   ]
  },
  {
   "cell_type": "code",
   "execution_count": 56,
   "metadata": {},
   "outputs": [
    {
     "name": "stdout",
     "output_type": "stream",
     "text": [
      "+------------+--------------------+\n",
      "|country_code|        country_name|\n",
      "+------------+--------------------+\n",
      "|         582|MEXICO Air Sea, a...|\n",
      "|         236|         AFGHANISTAN|\n",
      "|         101|             ALBANIA|\n",
      "|         316|             ALGERIA|\n",
      "+------------+--------------------+\n",
      "only showing top 4 rows\n",
      "\n"
     ]
    },
    {
     "data": {
      "text/plain": [
       "236"
      ]
     },
     "execution_count": 56,
     "metadata": {},
     "output_type": "execute_result"
    }
   ],
   "source": [
    "# parse SAS_labels_descriptions file for valid country codes and create lookup table\n",
    "from pyspark.sql.types import StructField, StructType, StringType, IntegerType, DecimalType\n",
    "f = open(\"data/I94_SAS_Labels_Descriptions.SAS\",\"r\")\n",
    "lines = f.readlines()\n",
    "countries=[]\n",
    "for line in lines[9:245]:\n",
    "    line_split = line.replace(\"'\", \"\").split('=')\n",
    "    countries.append({\"country_code\":int(line_split[0].strip()), \"country_name\":line_split[1].strip()})\n",
    "\n",
    "schema = StructType([\n",
    "    StructField('country_code', IntegerType()),\n",
    "    StructField('country_name', StringType())\n",
    "])\n",
    "\n",
    "df_countries = spark.createDataFrame(countries, schema)\n",
    "df_countries.show(4)\n",
    "df_countries.createOrReplaceTempView(\"lookup_country_codes\")\n",
    "df_countries.count()"
   ]
  },
  {
   "cell_type": "code",
   "execution_count": 57,
   "metadata": {},
   "outputs": [
    {
     "name": "stdout",
     "output_type": "stream",
     "text": [
      "+------------+--------------------+\n",
      "|airport_code|        airport_name|\n",
      "+------------+--------------------+\n",
      "|         ALC|           ALCAN, AK|\n",
      "|         ANC|       ANCHORAGE, AK|\n",
      "|         BAR|BAKER AAF - BAKER...|\n",
      "|         DAC|   DALTONS CACHE, AK|\n",
      "+------------+--------------------+\n",
      "only showing top 4 rows\n",
      "\n"
     ]
    },
    {
     "data": {
      "text/plain": [
       "591"
      ]
     },
     "execution_count": 57,
     "metadata": {},
     "output_type": "execute_result"
    }
   ],
   "source": [
    "# parse SAS_labels_descriptions file for valid airport codes and create lookup table\n",
    "f = open(\"data/I94_SAS_Labels_Descriptions.SAS\", \"r\")\n",
    "lines = f.readlines()\n",
    "airports=[]\n",
    "for line in lines[302:893]:\n",
    "    line_split = line.replace(\"'\", \"\").split('=')\n",
    "    airports.append({\"airport_code\":line_split[0].strip(), \"airport_name\":line_split[1].strip()})\n",
    "\n",
    "schema = StructType([\n",
    "    StructField('airport_code', StringType()),\n",
    "    StructField('airport_name', StringType())\n",
    "])\n",
    "\n",
    "df_airport_codes = spark.createDataFrame(airports, schema)\n",
    "df_airport_codes.show(4)\n",
    "df_airport_codes.createOrReplaceTempView(\"lookup_airport_codes\")\n",
    "df_airport_codes.count()"
   ]
  },
  {
   "cell_type": "code",
   "execution_count": 58,
   "metadata": {},
   "outputs": [
    {
     "data": {
      "text/plain": [
       "394068"
      ]
     },
     "execution_count": 58,
     "metadata": {},
     "output_type": "execute_result"
    }
   ],
   "source": [
    "df_visits.createOrReplaceTempView(\"visits\")\n",
    "\n",
    "spark.sql(\"\"\"select cicid,i94cit,i94res,i94port from visits \n",
    "where i94port not in (select airport_code from lookup_airport_codes)\"\"\").count()\n",
    "\n",
    "spark.sql(\"\"\"select cicid,i94cit,i94res,i94port from visits \n",
    "where i94cit not in (select country_code from lookup_country_codes)\"\"\").count()"
   ]
  },
  {
   "cell_type": "code",
   "execution_count": 17,
   "metadata": {},
   "outputs": [],
   "source": [
    "# rename columns(meaningful), fix column data types, convert arr/dep date to datetime, remove invalid airports,countries\n",
    "df_visits.createOrReplaceTempView(\"visits\")\n",
    "\n",
    "df_visits_format = spark.sql(\"\"\"SELECT cast(cicid as int) id, cast(i94cit as int) country_citizenship, \n",
    "cast(i94res as int) country_residence, i94port port, date_add('1960-01-01', cast(arrdate as int)) arrival_date, \n",
    "date_add('1960-01-01', cast(depdate as int)) departure_date, I94addr state, cast(i94bir as int) age,gender, \n",
    "cast(i94visa as int) visa_type,airline FROM visits \n",
    "\"\"\")\n",
    "\n",
    "df_visits_format.createOrReplaceTempView(\"visits\")\n",
    "\n",
    "df_visits_clean = spark.sql(\"\"\"SELECT id, country_citizenship, country_residence, port, arrival_date, \n",
    "departure_date, state, age,gender, visa_type,airline FROM visits \n",
    "where port in (select airport_code from lookup_airport_codes)\n",
    "and country_residence in (select country_code from lookup_country_codes)\n",
    "and country_citizenship in (select country_code from lookup_country_codes)\n",
    "\"\"\")\n",
    "\n",
    "df_visits_clean.createOrReplaceTempView(\"visits\")"
   ]
  },
  {
   "cell_type": "code",
   "execution_count": 16,
   "metadata": {},
   "outputs": [
    {
     "data": {
      "text/plain": [
       "2698166"
      ]
     },
     "execution_count": 16,
     "metadata": {},
     "output_type": "execute_result"
    }
   ],
   "source": [
    "df_visits_clean.count()"
   ]
  },
  {
   "cell_type": "code",
   "execution_count": 21,
   "metadata": {},
   "outputs": [
    {
     "name": "stdout",
     "output_type": "stream",
     "text": [
      "+----+-----------+----------+------------+---------+----------+\n",
      "|name|iso_country|iso_region|municipality|iata_code|local_code|\n",
      "+----+-----------+----------+------------+---------+----------+\n",
      "+----+-----------+----------+------------+---------+----------+\n",
      "\n"
     ]
    }
   ],
   "source": [
    "# remove invalid airports\n",
    "df_airports.createOrReplaceTempView(\"airports\")\n",
    "\n",
    "df_airports_clean = spark.sql(\"\"\"select name, iso_country, iso_region, municipality, iata_code, local_code From airports \n",
    "where local_code in (select airport_code from lookup_airport_codes)\n",
    "\"\"\")\n",
    "\n",
    "df_airports_clean.createOrReplaceTempView(\"airports\")\n",
    "\n",
    "spark.sql(\"\"\"select * from airports where local_code is null\"\"\").show()"
   ]
  },
  {
   "cell_type": "code",
   "execution_count": 66,
   "metadata": {},
   "outputs": [
    {
     "name": "stdout",
     "output_type": "stream",
     "text": [
      "+-----------+-----+----------+---------------+-----------------+----------------+------------+\n",
      "|       city|state|median_age|male_population|female_population|total_population|foreign_born|\n",
      "+-----------+-----+----------+---------------+-----------------+----------------+------------+\n",
      "|  Harlingen|   TX|      30.1|          32404|            33365|           65769|       10391|\n",
      "|Brownsville|   TX|      30.6|          87689|            96199|          183888|       53301|\n",
      "|    Sunrise|   FL|      37.7|          41471|            51235|           92706|       38209|\n",
      "|  Vacaville|   CA|      35.8|          50091|            46703|           96794|       10577|\n",
      "+-----------+-----+----------+---------------+-----------------+----------------+------------+\n",
      "only showing top 4 rows\n",
      "\n",
      "+--------------+-----+--------+\n",
      "|          city|state|count(1)|\n",
      "+--------------+-----+--------+\n",
      "|       Norwalk|   CA|       1|\n",
      "|          Mesa|   AZ|       1|\n",
      "|     Asheville|   NC|       1|\n",
      "|   Minneapolis|   MN|       1|\n",
      "|      Waukegan|   IL|       1|\n",
      "| Mountain View|   CA|       1|\n",
      "|Mount Pleasant|   SC|       1|\n",
      "|        Arvada|   CO|       1|\n",
      "|       Deltona|   FL|       1|\n",
      "|       Ontario|   CA|       1|\n",
      "|       Fontana|   CA|       1|\n",
      "|  South Jordan|   UT|       1|\n",
      "|  Lee's Summit|   MO|       1|\n",
      "|   Saint Cloud|   MN|       1|\n",
      "|   Santa Clara|   CA|       1|\n",
      "|       Lansing|   MI|       1|\n",
      "|        Lawton|   OK|       1|\n",
      "|        Folsom|   CA|       1|\n",
      "|   Maple Grove|   MN|       1|\n",
      "|         Flint|   MI|       1|\n",
      "+--------------+-----+--------+\n",
      "only showing top 20 rows\n",
      "\n"
     ]
    }
   ],
   "source": [
    "df_demo.createOrReplaceTempView(\"demo\")\n",
    "#df_demo.describe()\n",
    "\n",
    "# spark.sql(\"SELECT * FROM demo where city='Quincy' and state='Massachusetts'\").show()\n",
    "\n",
    "df_demo_format = spark.sql(\"\"\"select distinct city,`State Code` state,cast(`Median Age` as float) median_age, \n",
    "cast(`Male Population` as int) male_population,cast(`Female Population` as int) female_population, \n",
    "cast(`Total Population` as int) total_population, cast(`Foreign-born` as int) foreign_born from demo where state is not null\n",
    "\"\"\")\n",
    "\n",
    "df_demo_format.show(4)\n",
    "df_demo_format.count()\n",
    "\n",
    "#df_demo_format.createOrReplaceTempView(\"demo\")\n",
    "#spark.sql(\"select * from demo where `State Code` is null\").show()"
   ]
  },
  {
   "cell_type": "markdown",
   "metadata": {},
   "source": [
    "### Step 3: Define the Data Model\n",
    "#### 3.1 Conceptual Data Model\n",
    "Map out the conceptual data model and explain why you chose that model\n",
    "\n",
    "#### 3.2 Mapping Out Data Pipelines\n",
    "List the steps necessary to pipeline the data into the chosen data model"
   ]
  },
  {
   "cell_type": "code",
   "execution_count": null,
   "metadata": {},
   "outputs": [],
   "source": [
    "df_temperature.show(3)"
   ]
  },
  {
   "cell_type": "code",
   "execution_count": null,
   "metadata": {},
   "outputs": [],
   "source": [
    "df_temperature.createOrReplaceTempView(\"temperature\")"
   ]
  },
  {
   "cell_type": "code",
   "execution_count": null,
   "metadata": {},
   "outputs": [],
   "source": [
    "#spark.sql(\"select * from temperature where dt> to_date('20000101','YYYYMMDD')\").show(4)\n",
    "spark.sql(\"select * from temperature where dt>= '2000-01-01' order by dt\").show(4)\n",
    "#spark.sql(\"select dt,count(*) from temperature group by dt order by dt desc\").show(4)"
   ]
  },
  {
   "cell_type": "markdown",
   "metadata": {},
   "source": [
    "### Step 4: Run Pipelines to Model the Data \n",
    "#### 4.1 Create the data model\n",
    "Build the data pipelines to create the data model."
   ]
  },
  {
   "cell_type": "code",
   "execution_count": null,
   "metadata": {},
   "outputs": [],
   "source": [
    "# Write code here"
   ]
  },
  {
   "cell_type": "markdown",
   "metadata": {},
   "source": [
    "#### 4.2 Data Quality Checks\n",
    "Explain the data quality checks you'll perform to ensure the pipeline ran as expected. These could include:\n",
    " * Integrity constraints on the relational database (e.g., unique key, data type, etc.)\n",
    " * Unit tests for the scripts to ensure they are doing the right thing\n",
    " * Source/Count checks to ensure completeness\n",
    " \n",
    "Run Quality Checks"
   ]
  },
  {
   "cell_type": "code",
   "execution_count": null,
   "metadata": {},
   "outputs": [],
   "source": [
    "# Perform quality checks here"
   ]
  },
  {
   "cell_type": "markdown",
   "metadata": {},
   "source": [
    "#### 4.3 Data dictionary \n",
    "Create a data dictionary for your data model. For each field, provide a brief description of what the data is and where it came from. You can include the data dictionary in the notebook or in a separate file."
   ]
  },
  {
   "cell_type": "markdown",
   "metadata": {},
   "source": [
    "#### Step 5: Complete Project Write Up\n",
    "* Clearly state the rationale for the choice of tools and technologies for the project.\n",
    "* Propose how often the data should be updated and why.\n",
    "* Write a description of how you would approach the problem differently under the following scenarios:\n",
    " * The data was increased by 100x.\n",
    " * The data populates a dashboard that must be updated on a daily basis by 7am every day.\n",
    " * The database needed to be accessed by 100+ people."
   ]
  },
  {
   "cell_type": "code",
   "execution_count": null,
   "metadata": {},
   "outputs": [],
   "source": []
  },
  {
   "cell_type": "code",
   "execution_count": null,
   "metadata": {},
   "outputs": [],
   "source": []
  },
  {
   "cell_type": "code",
   "execution_count": null,
   "metadata": {},
   "outputs": [],
   "source": []
  },
  {
   "cell_type": "code",
   "execution_count": null,
   "metadata": {},
   "outputs": [],
   "source": []
  },
  {
   "cell_type": "code",
   "execution_count": null,
   "metadata": {},
   "outputs": [],
   "source": []
  },
  {
   "cell_type": "code",
   "execution_count": null,
   "metadata": {},
   "outputs": [],
   "source": []
  }
 ],
 "metadata": {
  "kernelspec": {
   "display_name": "Python 3",
   "language": "python",
   "name": "python3"
  },
  "language_info": {
   "codemirror_mode": {
    "name": "ipython",
    "version": 3
   },
   "file_extension": ".py",
   "mimetype": "text/x-python",
   "name": "python",
   "nbconvert_exporter": "python",
   "pygments_lexer": "ipython3",
   "version": "3.8.3"
  }
 },
 "nbformat": 4,
 "nbformat_minor": 4
}
