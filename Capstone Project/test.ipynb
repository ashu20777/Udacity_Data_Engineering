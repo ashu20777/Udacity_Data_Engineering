{
 "cells": [
  {
   "cell_type": "markdown",
   "metadata": {},
   "source": [
    "# Project Title\n",
    "### Data Engineering Capstone Project\n",
    "\n",
    "#### Project Summary\n",
    "--describe your project at a high level--\n",
    "\n",
    "The project follows the follow steps:\n",
    "* Step 1: Scope the Project and Gather Data\n",
    "* Step 2: Explore and Assess the Data\n",
    "* Step 3: Define the Data Model\n",
    "* Step 4: Run ETL to Model the Data\n",
    "* Step 5: Complete Project Write Up"
   ]
  },
  {
   "cell_type": "code",
   "execution_count": 17,
   "metadata": {},
   "outputs": [],
   "source": [
    "# Do all imports and installs here\n",
    "import pandas as pd"
   ]
  },
  {
   "cell_type": "markdown",
   "metadata": {},
   "source": [
    "### Step 1: Scope the Project and Gather Data\n",
    "\n",
    "#### Scope \n",
    "Explain what you plan to do in the project in more detail. What data do you use? What is your end solution look like? What tools did you use? etc>\n",
    "\n",
    "#### Describe and Gather Data \n",
    "Describe the data sets you're using. Where did it come from? What type of information is included? "
   ]
  },
  {
   "cell_type": "code",
   "execution_count": 2,
   "metadata": {},
   "outputs": [],
   "source": [
    "# Read in the data here\n",
    "fname = '../../data/18-83510-I94-Data-2016/i94_apr16_sub.sas7bdat'\n",
    "df = pd.read_sas(fname, 'sas7bdat', encoding=\"ISO-8859-1\")"
   ]
  },
  {
   "cell_type": "code",
   "execution_count": 3,
   "metadata": {},
   "outputs": [
    {
     "data": {
      "text/html": [
       "<div>\n",
       "<style scoped>\n",
       "    .dataframe tbody tr th:only-of-type {\n",
       "        vertical-align: middle;\n",
       "    }\n",
       "\n",
       "    .dataframe tbody tr th {\n",
       "        vertical-align: top;\n",
       "    }\n",
       "\n",
       "    .dataframe thead th {\n",
       "        text-align: right;\n",
       "    }\n",
       "</style>\n",
       "<table border=\"1\" class=\"dataframe\">\n",
       "  <thead>\n",
       "    <tr style=\"text-align: right;\">\n",
       "      <th></th>\n",
       "      <th>cicid</th>\n",
       "      <th>i94yr</th>\n",
       "      <th>i94mon</th>\n",
       "      <th>i94cit</th>\n",
       "      <th>i94res</th>\n",
       "      <th>i94port</th>\n",
       "      <th>arrdate</th>\n",
       "      <th>i94mode</th>\n",
       "      <th>i94addr</th>\n",
       "      <th>depdate</th>\n",
       "      <th>...</th>\n",
       "      <th>entdepu</th>\n",
       "      <th>matflag</th>\n",
       "      <th>biryear</th>\n",
       "      <th>dtaddto</th>\n",
       "      <th>gender</th>\n",
       "      <th>insnum</th>\n",
       "      <th>airline</th>\n",
       "      <th>admnum</th>\n",
       "      <th>fltno</th>\n",
       "      <th>visatype</th>\n",
       "    </tr>\n",
       "  </thead>\n",
       "  <tbody>\n",
       "    <tr>\n",
       "      <th>0</th>\n",
       "      <td>6.0</td>\n",
       "      <td>2016.0</td>\n",
       "      <td>4.0</td>\n",
       "      <td>692.0</td>\n",
       "      <td>692.0</td>\n",
       "      <td>XXX</td>\n",
       "      <td>20573.0</td>\n",
       "      <td>NaN</td>\n",
       "      <td>NaN</td>\n",
       "      <td>NaN</td>\n",
       "      <td>...</td>\n",
       "      <td>U</td>\n",
       "      <td>NaN</td>\n",
       "      <td>1979.0</td>\n",
       "      <td>10282016</td>\n",
       "      <td>NaN</td>\n",
       "      <td>NaN</td>\n",
       "      <td>NaN</td>\n",
       "      <td>1.897628e+09</td>\n",
       "      <td>NaN</td>\n",
       "      <td>B2</td>\n",
       "    </tr>\n",
       "    <tr>\n",
       "      <th>1</th>\n",
       "      <td>7.0</td>\n",
       "      <td>2016.0</td>\n",
       "      <td>4.0</td>\n",
       "      <td>254.0</td>\n",
       "      <td>276.0</td>\n",
       "      <td>ATL</td>\n",
       "      <td>20551.0</td>\n",
       "      <td>1.0</td>\n",
       "      <td>AL</td>\n",
       "      <td>NaN</td>\n",
       "      <td>...</td>\n",
       "      <td>Y</td>\n",
       "      <td>NaN</td>\n",
       "      <td>1991.0</td>\n",
       "      <td>D/S</td>\n",
       "      <td>M</td>\n",
       "      <td>NaN</td>\n",
       "      <td>NaN</td>\n",
       "      <td>3.736796e+09</td>\n",
       "      <td>00296</td>\n",
       "      <td>F1</td>\n",
       "    </tr>\n",
       "    <tr>\n",
       "      <th>2</th>\n",
       "      <td>15.0</td>\n",
       "      <td>2016.0</td>\n",
       "      <td>4.0</td>\n",
       "      <td>101.0</td>\n",
       "      <td>101.0</td>\n",
       "      <td>WAS</td>\n",
       "      <td>20545.0</td>\n",
       "      <td>1.0</td>\n",
       "      <td>MI</td>\n",
       "      <td>20691.0</td>\n",
       "      <td>...</td>\n",
       "      <td>NaN</td>\n",
       "      <td>M</td>\n",
       "      <td>1961.0</td>\n",
       "      <td>09302016</td>\n",
       "      <td>M</td>\n",
       "      <td>NaN</td>\n",
       "      <td>OS</td>\n",
       "      <td>6.666432e+08</td>\n",
       "      <td>93</td>\n",
       "      <td>B2</td>\n",
       "    </tr>\n",
       "    <tr>\n",
       "      <th>3</th>\n",
       "      <td>16.0</td>\n",
       "      <td>2016.0</td>\n",
       "      <td>4.0</td>\n",
       "      <td>101.0</td>\n",
       "      <td>101.0</td>\n",
       "      <td>NYC</td>\n",
       "      <td>20545.0</td>\n",
       "      <td>1.0</td>\n",
       "      <td>MA</td>\n",
       "      <td>20567.0</td>\n",
       "      <td>...</td>\n",
       "      <td>NaN</td>\n",
       "      <td>M</td>\n",
       "      <td>1988.0</td>\n",
       "      <td>09302016</td>\n",
       "      <td>NaN</td>\n",
       "      <td>NaN</td>\n",
       "      <td>AA</td>\n",
       "      <td>9.246846e+10</td>\n",
       "      <td>00199</td>\n",
       "      <td>B2</td>\n",
       "    </tr>\n",
       "    <tr>\n",
       "      <th>4</th>\n",
       "      <td>17.0</td>\n",
       "      <td>2016.0</td>\n",
       "      <td>4.0</td>\n",
       "      <td>101.0</td>\n",
       "      <td>101.0</td>\n",
       "      <td>NYC</td>\n",
       "      <td>20545.0</td>\n",
       "      <td>1.0</td>\n",
       "      <td>MA</td>\n",
       "      <td>20567.0</td>\n",
       "      <td>...</td>\n",
       "      <td>NaN</td>\n",
       "      <td>M</td>\n",
       "      <td>2012.0</td>\n",
       "      <td>09302016</td>\n",
       "      <td>NaN</td>\n",
       "      <td>NaN</td>\n",
       "      <td>AA</td>\n",
       "      <td>9.246846e+10</td>\n",
       "      <td>00199</td>\n",
       "      <td>B2</td>\n",
       "    </tr>\n",
       "  </tbody>\n",
       "</table>\n",
       "<p>5 rows × 28 columns</p>\n",
       "</div>"
      ],
      "text/plain": [
       "   cicid   i94yr  i94mon  i94cit  i94res i94port  arrdate  i94mode i94addr  \\\n",
       "0    6.0  2016.0     4.0   692.0   692.0     XXX  20573.0      NaN     NaN   \n",
       "1    7.0  2016.0     4.0   254.0   276.0     ATL  20551.0      1.0      AL   \n",
       "2   15.0  2016.0     4.0   101.0   101.0     WAS  20545.0      1.0      MI   \n",
       "3   16.0  2016.0     4.0   101.0   101.0     NYC  20545.0      1.0      MA   \n",
       "4   17.0  2016.0     4.0   101.0   101.0     NYC  20545.0      1.0      MA   \n",
       "\n",
       "   depdate   ...     entdepu  matflag  biryear   dtaddto gender insnum  \\\n",
       "0      NaN   ...           U      NaN   1979.0  10282016    NaN    NaN   \n",
       "1      NaN   ...           Y      NaN   1991.0       D/S      M    NaN   \n",
       "2  20691.0   ...         NaN        M   1961.0  09302016      M    NaN   \n",
       "3  20567.0   ...         NaN        M   1988.0  09302016    NaN    NaN   \n",
       "4  20567.0   ...         NaN        M   2012.0  09302016    NaN    NaN   \n",
       "\n",
       "  airline        admnum  fltno visatype  \n",
       "0     NaN  1.897628e+09    NaN       B2  \n",
       "1     NaN  3.736796e+09  00296       F1  \n",
       "2      OS  6.666432e+08     93       B2  \n",
       "3      AA  9.246846e+10  00199       B2  \n",
       "4      AA  9.246846e+10  00199       B2  \n",
       "\n",
       "[5 rows x 28 columns]"
      ]
     },
     "execution_count": 3,
     "metadata": {},
     "output_type": "execute_result"
    }
   ],
   "source": [
    "df.head()"
   ]
  },
  {
   "cell_type": "code",
   "execution_count": 120,
   "metadata": {},
   "outputs": [],
   "source": [
    "import findspark\n",
    "findspark.init('C:\\spark')\n",
    "               \n",
    "from pyspark.sql import SparkSession\n",
    "\n",
    "spark = SparkSession.builder.\\\n",
    "config(\"spark.jars.packages\",\"saurfang:spark-sas7bdat:2.0.0-s_2.11\")\\\n",
    ".enableHiveSupport().getOrCreate()\n",
    "#df_visits = spark.read.format('com.github.saurfang.sas.spark').load('../../data/18-83510-I94-Data-2016/i94_apr16_sub.sas7bdat')"
   ]
  },
  {
   "cell_type": "code",
   "execution_count": 132,
   "metadata": {},
   "outputs": [],
   "source": [
    "#write to parquet\n",
    "#df_visits.write.parquet(\"sas_data\")\n",
    "df_visits=spark.read.parquet(\"data/immigration_data\")\n",
    "df_us_cities_demo = spark.read.csv(\"data/us-cities-demographics.csv\", sep=\";\",  inferSchema=True, header=True)\n",
    "df_airports = spark.read.csv(\"data/airport-codes_csv.csv\", header=True)"
   ]
  },
  {
   "cell_type": "markdown",
   "metadata": {},
   "source": [
    "### Step 2: Explore and Assess the Data\n",
    "#### Explore the Data \n",
    "Identify data quality issues, like missing values, duplicate data, etc.\n",
    "\n",
    "#### Cleaning Steps\n",
    "Document steps necessary to clean the data"
   ]
  },
  {
   "cell_type": "code",
   "execution_count": 122,
   "metadata": {},
   "outputs": [
    {
     "data": {
      "text/plain": [
       "3096313"
      ]
     },
     "execution_count": 122,
     "metadata": {},
     "output_type": "execute_result"
    }
   ],
   "source": [
    "# Performing cleaning tasks here\n",
    "# df_visits.show(3)\n",
    "# df_visits.describe()\n",
    "df_visits.count()"
   ]
  },
  {
   "cell_type": "code",
   "execution_count": 133,
   "metadata": {},
   "outputs": [
    {
     "name": "stdout",
     "output_type": "stream",
     "text": [
      "+------------+--------------------+\n",
      "|country_code|        country_name|\n",
      "+------------+--------------------+\n",
      "|         582|MEXICO Air Sea, a...|\n",
      "|         236|         AFGHANISTAN|\n",
      "|         101|             ALBANIA|\n",
      "|         316|             ALGERIA|\n",
      "+------------+--------------------+\n",
      "only showing top 4 rows\n",
      "\n"
     ]
    }
   ],
   "source": [
    "# parse file containing valid country codes and create lookup table\n",
    "from pyspark.sql.types import StructField, StructType, StringType, IntegerType, DecimalType\n",
    "f = open(\"data/valid_country_codes.txt\",\"r\")\n",
    "countries=[]\n",
    "for line in f.readlines():\n",
    "    line = line.replace(\"'\", \"\").split('=')\n",
    "    countries.append({\"country_code\":int(line[0].strip()), \"country_name\":line[1].strip()})\n",
    "\n",
    "schema = StructType([\n",
    "    StructField('country_code', IntegerType()),\n",
    "    StructField('country_name', StringType())\n",
    "])\n",
    "\n",
    "df_countries = spark.createDataFrame(countries, schema)\n",
    "df_countries.show(4)\n",
    "df_countries.count()\n",
    "df_countries.createOrReplaceTempView(\"lookup_country_codes\")"
   ]
  },
  {
   "cell_type": "code",
   "execution_count": 134,
   "metadata": {},
   "outputs": [
    {
     "name": "stdout",
     "output_type": "stream",
     "text": [
      "+------------+--------------------+\n",
      "|airport_code|        airport_name|\n",
      "+------------+--------------------+\n",
      "|         ALC|           ALCAN, AK|\n",
      "|         ANC|       ANCHORAGE, AK|\n",
      "|         BAR|BAKER AAF - BAKER...|\n",
      "|         DAC|   DALTONS CACHE, AK|\n",
      "+------------+--------------------+\n",
      "only showing top 4 rows\n",
      "\n"
     ]
    }
   ],
   "source": [
    "# parse file containing valid airport codes and create lookup table\n",
    "f = open(\"data/valid_airport_codes.txt\", \"r\")\n",
    "airports=[]\n",
    "for line in f.readlines():\n",
    "    line = line.replace(\"'\", \"\").split('=')\n",
    "    airports.append({\"airport_code\":line[0].strip(), \"airport_name\":line[1].strip()})\n",
    "\n",
    "schema = StructType([\n",
    "    StructField('airport_code', StringType()),\n",
    "    StructField('airport_name', StringType())\n",
    "])\n",
    "\n",
    "df_airports = spark.createDataFrame(airports, schema)\n",
    "df_airports.show(4)\n",
    "df_airports.count()\n",
    "df_airports.createOrReplaceTempView(\"lookup_airport_codes\")\n"
   ]
  },
  {
   "cell_type": "code",
   "execution_count": 135,
   "metadata": {},
   "outputs": [
    {
     "data": {
      "text/plain": [
       "386591"
      ]
     },
     "execution_count": 135,
     "metadata": {},
     "output_type": "execute_result"
    }
   ],
   "source": [
    "df_visits.createOrReplaceTempView(\"visits\")\n",
    "\n",
    "spark.sql(\"\"\"select cicid,i94cit,i94res,i94port from visits \n",
    "where i94port not in (select airport_code from lookup_airport_codes)\"\"\").count()\n",
    "\n",
    "spark.sql(\"\"\"select cicid,i94cit,i94res,i94port from visits \n",
    "where i94cit not in (select country_code from lookup_country_codes)\"\"\").count()"
   ]
  },
  {
   "cell_type": "code",
   "execution_count": 118,
   "metadata": {},
   "outputs": [
    {
     "name": "stdout",
     "output_type": "stream",
     "text": [
      "+-------+-------------------+-----------------+----+------------+--------------+-----+---+------+---------+-------+\n",
      "|     id|country_citizenship|country_residence|port|arrival_date|departure_date|state|age|gender|visa_type|airline|\n",
      "+-------+-------------------+-----------------+----+------------+--------------+-----+---+------+---------+-------+\n",
      "|5761355|                297|              297| BGM|  2016-04-30|          null| null| 63|     F|        1|    348|\n",
      "|5761356|                297|              297| BGM|  2016-04-30|    2016-08-08| null| 43|     M|        1|    348|\n",
      "|5761357|                297|              297| BGM|  2016-04-30|    2016-08-19| null| 48|     M|        1|    348|\n",
      "| 460085|                135|              135| BGM|  2016-04-03|    2016-04-06|   FL| 34|     M|        2|    R0E|\n",
      "| 473180|                135|              135| BGM|  2016-04-03|    2016-08-21|   NY| 69|     M|        1|    R0E|\n",
      "| 473264|                135|              135| BGM|  2016-04-03|          null|   NY| 64|     M|        1|    R0E|\n",
      "| 473265|                135|              135| BGM|  2016-04-03|          null|   NY| 63|     F|        2|    R0E|\n",
      "| 473367|                135|              135| BGM|  2016-04-03|    2016-04-06|   GA| 53|     M|        2|    *GA|\n",
      "| 473368|                135|              135| BGM|  2016-04-03|    2016-04-07|   GA| 36|     M|        2|    *GA|\n",
      "| 473369|                135|              135| BGM|  2016-04-03|          null|   NY| 36|     F|        1|    R0E|\n",
      "| 473370|                135|              135| BGM|  2016-04-03|    2016-04-10|   NY| 49|     M|        1|    R0E|\n",
      "| 473371|                135|              135| BGM|  2016-04-03|    2016-04-13|   NY| 26|     M|        1|    R0E|\n",
      "| 474644|                135|              135| BGM|  2016-04-03|    2016-08-12| null| 62|     M|        2|    789|\n",
      "| 474645|                135|              135| BGM|  2016-04-03|    2016-08-12| null| 40|     F|        2|    789|\n",
      "| 516509|                373|              373| BGM|  2016-04-03|    2016-04-05|   VA| 55|     M|        1|    *GA|\n",
      "| 625524|                746|              158| BGM|  2016-04-03|    2016-04-06|   FL| 49|     F|        2|    R0E|\n",
      "| 625525|                746|              158| BGM|  2016-04-03|    2016-04-06|   FL| 15|     F|        2|    R0E|\n",
      "| 625526|                746|              158| BGM|  2016-04-03|    2016-04-06|   FL| 13|     M|        2|    R0E|\n",
      "|1983363|                111|              332| BGM|  2016-04-11|    2016-04-16|   GA| 71|     M|        1|    *GA|\n",
      "|2049259|                332|              332| BGM|  2016-04-11|    2016-04-16|   GA| 40|     M|        1|    *GA|\n",
      "+-------+-------------------+-----------------+----+------------+--------------+-----+---+------+---------+-------+\n",
      "only showing top 20 rows\n",
      "\n"
     ]
    }
   ],
   "source": [
    "# rename columns(meaningful), fix column data types, convert arr/dep date to datetime\n",
    "df_visits.createOrReplaceTempView(\"visits\")\n",
    "\n",
    "df_visits_clean = spark.sql(\"\"\"SELECT cast(cicid as int) id, cast(i94cit as int) country_citizenship, \n",
    "cast(i94res as int) country_residence, i94port port, date_add('1960-01-01', cast(arrdate as int)) arrival_date, \n",
    "date_add('1960-01-01', cast(depdate as int)) departure_date, I94addr state, cast(i94bir as int) age,gender, \n",
    "cast(i94visa as int) visa_type,airline\n",
    "FROM visits where i94port in (select airport_code from lookup_airport_codes)\"\"\")\n",
    "df_visits_clean.show()\n"
   ]
  },
  {
   "cell_type": "code",
   "execution_count": 119,
   "metadata": {},
   "outputs": [
    {
     "data": {
      "text/plain": [
       "3092098"
      ]
     },
     "execution_count": 119,
     "metadata": {},
     "output_type": "execute_result"
    }
   ],
   "source": [
    "df_visits.count()"
   ]
  },
  {
   "cell_type": "code",
   "execution_count": 13,
   "metadata": {},
   "outputs": [
    {
     "name": "stdout",
     "output_type": "stream",
     "text": [
      "+------+-------------+----------+---------------+-----------------+----------------+------------------+------------+----------------------+----------+--------------------+-----+\n",
      "|  City|        State|Median Age|Male Population|Female Population|Total Population|Number of Veterans|Foreign-born|Average Household Size|State Code|                Race|Count|\n",
      "+------+-------------+----------+---------------+-----------------+----------------+------------------+------------+----------------------+----------+--------------------+-----+\n",
      "|Quincy|Massachusetts|      41.0|          44129|            49500|           93629|              4147|       32935|                  2.39|        MA|               White|58723|\n",
      "|Quincy|Massachusetts|      41.0|          44129|            49500|           93629|              4147|       32935|                  2.39|        MA|  Hispanic or Latino| 2566|\n",
      "|Quincy|Massachusetts|      41.0|          44129|            49500|           93629|              4147|       32935|                  2.39|        MA|American Indian a...|  351|\n",
      "|Quincy|Massachusetts|      41.0|          44129|            49500|           93629|              4147|       32935|                  2.39|        MA|Black or African-...| 3917|\n",
      "|Quincy|Massachusetts|      41.0|          44129|            49500|           93629|              4147|       32935|                  2.39|        MA|               Asian|30473|\n",
      "+------+-------------+----------+---------------+-----------------+----------------+------------------+------------+----------------------+----------+--------------------+-----+\n",
      "\n"
     ]
    }
   ],
   "source": [
    "df_us_cities_demo.count()\n",
    "#df_us_cities_demo.show(4)\n",
    "df_us_cities_demo.createOrReplaceTempView(\"demo\")\n",
    "spark.sql(\"SELECT * FROM demo where city='Quincy' and state='Massachusetts'\").show()"
   ]
  },
  {
   "cell_type": "code",
   "execution_count": 40,
   "metadata": {},
   "outputs": [
    {
     "name": "stdout",
     "output_type": "stream",
     "text": [
      "+--------------------+----------+------------+---------+----------+\n",
      "|                name|iso_region|municipality|iata_code|local_code|\n",
      "+--------------------+----------+------------+---------+----------+\n",
      "|   Total Rf Heliport|     US-PA|    Bensalem|     null|       00A|\n",
      "|Aero B Ranch Airport|     US-KS|       Leoti|     null|      00AA|\n",
      "|        Lowell Field|     US-AK|Anchor Point|     null|      00AK|\n",
      "|        Epps Airpark|     US-AL|     Harvest|     null|      00AL|\n",
      "|      Fulton Airport|     US-OK|        Alex|     null|      00AS|\n",
      "|      Cordes Airport|     US-AZ|      Cordes|     null|      00AZ|\n",
      "|Goldstone /Gts/ A...|     US-CA|     Barstow|     null|      00CA|\n",
      "| Williams Ag Airport|     US-CA|       Biggs|     null|      00CL|\n",
      "|Kitchen Creek Hel...|     US-CA| Pine Valley|     null|      00CN|\n",
      "| Grass Patch Airport|     US-FL|    Bushnell|     null|      00FA|\n",
      "|  Ringhaver Heliport|     US-FL|   Riverview|     null|      00FD|\n",
      "|   River Oak Airport|     US-FL|  Okeechobee|     null|      00FL|\n",
      "|    Lt World Airport|     US-GA|    Lithonia|     null|      00GA|\n",
      "|    Caffrey Heliport|     US-GA|       Hiram|     null|      00GE|\n",
      "|  Kaupulehu Heliport|     US-HI| Kailua/Kona|     null|      00HI|\n",
      "|Delta Shores Airport|     US-ID|  Clark Fork|     null|      00ID|\n",
      "|       Goltl Airport|     US-KS|    McDonald|     null|      00IG|\n",
      "|Bailey Generation...|     US-IN|  Chesterton|     null|      00II|\n",
      "|      Hammer Airport|     US-IL|        Polo|     null|      00IL|\n",
      "|St Mary Medical C...|     US-IN|      Hobart|     null|      00IN|\n",
      "+--------------------+----------+------------+---------+----------+\n",
      "only showing top 20 rows\n",
      "\n"
     ]
    }
   ],
   "source": [
    "df_airports.count()\n",
    "df_airports.createOrReplaceTempView(\"airports\")\n",
    "#spark.sql(\"select count(*) From airports where iso_country='US' and local_code != iata_code\").show()\n",
    "#spark.sql(\"\"\"select name, iso_region, municipality, iata_code, local_code From airports \n",
    "#            where iso_country='US' and local_code != iata_code\n",
    "#        \"\"\").show()\n",
    "#spark.sql(\"select count(*) From airports where iso_country='US' and iata_code is null and local_code is not null\").show()\n",
    "spark.sql(\"select name, iso_region, municipality, iata_code, local_code From airports where iso_country='US' and iata_code is null and local_code is not null\").show()"
   ]
  },
  {
   "cell_type": "markdown",
   "metadata": {},
   "source": [
    "### Step 3: Define the Data Model\n",
    "#### 3.1 Conceptual Data Model\n",
    "Map out the conceptual data model and explain why you chose that model\n",
    "\n",
    "#### 3.2 Mapping Out Data Pipelines\n",
    "List the steps necessary to pipeline the data into the chosen data model"
   ]
  },
  {
   "cell_type": "code",
   "execution_count": 4,
   "metadata": {},
   "outputs": [
    {
     "name": "stdout",
     "output_type": "stream",
     "text": [
      "+----------+------------------+-----------------------------+-----+-------+--------+---------+\n",
      "|        dt|AverageTemperature|AverageTemperatureUncertainty| City|Country|Latitude|Longitude|\n",
      "+----------+------------------+-----------------------------+-----+-------+--------+---------+\n",
      "|1743-11-01|             6.068|           1.7369999999999999|Århus|Denmark|  57.05N|   10.33E|\n",
      "|1743-12-01|              null|                         null|Århus|Denmark|  57.05N|   10.33E|\n",
      "|1744-01-01|              null|                         null|Århus|Denmark|  57.05N|   10.33E|\n",
      "+----------+------------------+-----------------------------+-----+-------+--------+---------+\n",
      "only showing top 3 rows\n",
      "\n"
     ]
    }
   ],
   "source": [
    "df_temperature.show(3)"
   ]
  },
  {
   "cell_type": "code",
   "execution_count": 5,
   "metadata": {},
   "outputs": [],
   "source": [
    "df_temperature.createOrReplaceTempView(\"temperature\")"
   ]
  },
  {
   "cell_type": "code",
   "execution_count": 16,
   "metadata": {},
   "outputs": [
    {
     "name": "stdout",
     "output_type": "stream",
     "text": [
      "+----------+-------------------+-----------------------------+-------+----------+--------+---------+\n",
      "|        dt| AverageTemperature|AverageTemperatureUncertainty|   City|   Country|Latitude|Longitude|\n",
      "+----------+-------------------+-----------------------------+-------+----------+--------+---------+\n",
      "|2000-01-01|-16.703999999999994|          0.44799999999999995|Öskemen|Kazakhstan|  50.63N|   82.39E|\n",
      "|2000-01-01|              3.065|          0.37200000000000005|Aalborg|   Denmark|  57.05N|   10.33E|\n",
      "|2000-01-01|-15.574000000000002|                        0.664| Ürümqi|     China|  44.20N|   87.20E|\n",
      "|2000-01-01|-3.1710000000000003|                        1.063|  Çorum|    Turkey|  40.99N|   34.08E|\n",
      "+----------+-------------------+-----------------------------+-------+----------+--------+---------+\n",
      "only showing top 4 rows\n",
      "\n"
     ]
    }
   ],
   "source": [
    "#spark.sql(\"select * from temperature where dt> to_date('20000101','YYYYMMDD')\").show(4)\n",
    "spark.sql(\"select * from temperature where dt>= '2000-01-01' order by dt\").show(4)\n",
    "#spark.sql(\"select dt,count(*) from temperature group by dt order by dt desc\").show(4)"
   ]
  },
  {
   "cell_type": "markdown",
   "metadata": {},
   "source": [
    "### Step 4: Run Pipelines to Model the Data \n",
    "#### 4.1 Create the data model\n",
    "Build the data pipelines to create the data model."
   ]
  },
  {
   "cell_type": "code",
   "execution_count": null,
   "metadata": {},
   "outputs": [],
   "source": [
    "# Write code here"
   ]
  },
  {
   "cell_type": "markdown",
   "metadata": {},
   "source": [
    "#### 4.2 Data Quality Checks\n",
    "Explain the data quality checks you'll perform to ensure the pipeline ran as expected. These could include:\n",
    " * Integrity constraints on the relational database (e.g., unique key, data type, etc.)\n",
    " * Unit tests for the scripts to ensure they are doing the right thing\n",
    " * Source/Count checks to ensure completeness\n",
    " \n",
    "Run Quality Checks"
   ]
  },
  {
   "cell_type": "code",
   "execution_count": null,
   "metadata": {},
   "outputs": [],
   "source": [
    "# Perform quality checks here"
   ]
  },
  {
   "cell_type": "markdown",
   "metadata": {},
   "source": [
    "#### 4.3 Data dictionary \n",
    "Create a data dictionary for your data model. For each field, provide a brief description of what the data is and where it came from. You can include the data dictionary in the notebook or in a separate file."
   ]
  },
  {
   "cell_type": "markdown",
   "metadata": {},
   "source": [
    "#### Step 5: Complete Project Write Up\n",
    "* Clearly state the rationale for the choice of tools and technologies for the project.\n",
    "* Propose how often the data should be updated and why.\n",
    "* Write a description of how you would approach the problem differently under the following scenarios:\n",
    " * The data was increased by 100x.\n",
    " * The data populates a dashboard that must be updated on a daily basis by 7am every day.\n",
    " * The database needed to be accessed by 100+ people."
   ]
  },
  {
   "cell_type": "code",
   "execution_count": null,
   "metadata": {},
   "outputs": [],
   "source": []
  },
  {
   "cell_type": "code",
   "execution_count": null,
   "metadata": {},
   "outputs": [],
   "source": []
  },
  {
   "cell_type": "code",
   "execution_count": null,
   "metadata": {},
   "outputs": [],
   "source": []
  },
  {
   "cell_type": "code",
   "execution_count": null,
   "metadata": {},
   "outputs": [],
   "source": []
  },
  {
   "cell_type": "code",
   "execution_count": null,
   "metadata": {},
   "outputs": [],
   "source": []
  },
  {
   "cell_type": "code",
   "execution_count": null,
   "metadata": {},
   "outputs": [],
   "source": []
  }
 ],
 "metadata": {
  "kernelspec": {
   "display_name": "Python 3",
   "language": "python",
   "name": "python3"
  },
  "language_info": {
   "codemirror_mode": {
    "name": "ipython",
    "version": 3
   },
   "file_extension": ".py",
   "mimetype": "text/x-python",
   "name": "python",
   "nbconvert_exporter": "python",
   "pygments_lexer": "ipython3",
   "version": "3.8.3"
  }
 },
 "nbformat": 4,
 "nbformat_minor": 4
}
